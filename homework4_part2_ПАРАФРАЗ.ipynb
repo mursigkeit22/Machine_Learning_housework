{
 "cells": [
  {
   "cell_type": "markdown",
   "metadata": {},
   "source": [
    " ## парафраз"
   ]
  },
  {
   "cell_type": "code",
   "execution_count": 1,
   "metadata": {},
   "outputs": [],
   "source": [
    "from xml.etree import ElementTree\n",
    "import itertools\n",
    "import pandas as pd\n",
    "import numpy as np\n",
    "from nltk.tokenize import word_tokenize\n"
   ]
  },
  {
   "cell_type": "code",
   "execution_count": 2,
   "metadata": {},
   "outputs": [],
   "source": [
    "from sklearn.feature_extraction.text import CountVectorizer, TfidfVectorizer\n",
    "from sklearn.model_selection import train_test_split\n",
    "from sklearn.metrics.pairwise import euclidean_distances\n",
    "from sklearn.metrics.pairwise import manhattan_distances\n",
    "from sklearn.metrics.pairwise import cosine_similarity\n",
    "from sklearn.decomposition import TruncatedSVD\n",
    "from gensim.models.keyedvectors import FastTextKeyedVectors\n",
    "from sklearn.metrics import average_precision_score\n",
    "from sklearn.metrics import classification_report\n",
    "from sklearn.linear_model import LogisticRegression\n",
    "from sklearn.linear_model import SGDClassifier\n",
    "from sklearn.tree import DecisionTreeClassifier\n",
    "from sklearn.preprocessing import scale\n",
    "from sklearn.preprocessing import normalize"
   ]
  },
  {
   "cell_type": "code",
   "execution_count": 3,
   "metadata": {},
   "outputs": [],
   "source": [
    "m = FastTextKeyedVectors.load('model.model')"
   ]
  },
  {
   "cell_type": "markdown",
   "metadata": {},
   "source": [
    "Создаем датафрейм:"
   ]
  },
  {
   "cell_type": "code",
   "execution_count": 4,
   "metadata": {},
   "outputs": [],
   "source": [
    "with open('paraphrases.xml', encoding='utf-8') as f:\n",
    "    data = f.read()"
   ]
  },
  {
   "cell_type": "code",
   "execution_count": 5,
   "metadata": {},
   "outputs": [],
   "source": [
    "root = ElementTree.XML(data)"
   ]
  },
  {
   "cell_type": "code",
   "execution_count": 6,
   "metadata": {},
   "outputs": [],
   "source": [
    "par_data = {'text1': [], 'text2': [], 'class': []}\n",
    "for par in root[1]:\n",
    "    par_data['text1'].append(par[3].text)\n",
    "    par_data['text2'].append(par[4].text)\n",
    "    par_data['class'].append(int(par[6].text))"
   ]
  },
  {
   "cell_type": "code",
   "execution_count": 7,
   "metadata": {},
   "outputs": [
    {
     "data": {
      "text/html": [
       "<div>\n",
       "<style scoped>\n",
       "    .dataframe tbody tr th:only-of-type {\n",
       "        vertical-align: middle;\n",
       "    }\n",
       "\n",
       "    .dataframe tbody tr th {\n",
       "        vertical-align: top;\n",
       "    }\n",
       "\n",
       "    .dataframe thead th {\n",
       "        text-align: right;\n",
       "    }\n",
       "</style>\n",
       "<table border=\"1\" class=\"dataframe\">\n",
       "  <thead>\n",
       "    <tr style=\"text-align: right;\">\n",
       "      <th></th>\n",
       "      <th>text1</th>\n",
       "      <th>text2</th>\n",
       "      <th>class</th>\n",
       "    </tr>\n",
       "  </thead>\n",
       "  <tbody>\n",
       "    <tr>\n",
       "      <th>0</th>\n",
       "      <td>Полицейским разрешат стрелять на поражение по ...</td>\n",
       "      <td>Полиции могут разрешить стрелять по хулиганам ...</td>\n",
       "      <td>0</td>\n",
       "    </tr>\n",
       "    <tr>\n",
       "      <th>1</th>\n",
       "      <td>Право полицейских на проникновение в жилище ре...</td>\n",
       "      <td>Правила внесудебного проникновения полицейских...</td>\n",
       "      <td>0</td>\n",
       "    </tr>\n",
       "    <tr>\n",
       "      <th>2</th>\n",
       "      <td>Президент Египта ввел чрезвычайное положение в...</td>\n",
       "      <td>Власти Египта угрожают ввести в стране чрезвыч...</td>\n",
       "      <td>0</td>\n",
       "    </tr>\n",
       "    <tr>\n",
       "      <th>3</th>\n",
       "      <td>Вернувшихся из Сирии россиян волнует вопрос тр...</td>\n",
       "      <td>Самолеты МЧС вывезут россиян из разрушенной Си...</td>\n",
       "      <td>-1</td>\n",
       "    </tr>\n",
       "    <tr>\n",
       "      <th>4</th>\n",
       "      <td>В Москву из Сирии вернулись 2 самолета МЧС с р...</td>\n",
       "      <td>Самолеты МЧС вывезут россиян из разрушенной Си...</td>\n",
       "      <td>0</td>\n",
       "    </tr>\n",
       "    <tr>\n",
       "      <th>5</th>\n",
       "      <td>Приставы соберут отпечатки пальцев российских ...</td>\n",
       "      <td>Приставы снимут отпечатки пальцев у злостных н...</td>\n",
       "      <td>1</td>\n",
       "    </tr>\n",
       "    <tr>\n",
       "      <th>6</th>\n",
       "      <td>На саратовского дебошира с борта самолета Моск...</td>\n",
       "      <td>Саратовский дебошир отказывается возвращаться ...</td>\n",
       "      <td>-1</td>\n",
       "    </tr>\n",
       "    <tr>\n",
       "      <th>7</th>\n",
       "      <td>ЦИК хочет отказаться от электронной системы по...</td>\n",
       "      <td>ЦИК может отказаться от электронных средств по...</td>\n",
       "      <td>0</td>\n",
       "    </tr>\n",
       "    <tr>\n",
       "      <th>8</th>\n",
       "      <td>Суд Петербурга оставил на потом дело о гибели ...</td>\n",
       "      <td>Лондонский Гайд-парк - это не место для митинг...</td>\n",
       "      <td>-1</td>\n",
       "    </tr>\n",
       "    <tr>\n",
       "      <th>9</th>\n",
       "      <td>Страны ОПЕК сократили добычу нефти на 1 млн ба...</td>\n",
       "      <td>Обама продлил полномочия НАСА по сотрудничеств...</td>\n",
       "      <td>-1</td>\n",
       "    </tr>\n",
       "  </tbody>\n",
       "</table>\n",
       "</div>"
      ],
      "text/plain": [
       "                                               text1  \\\n",
       "0  Полицейским разрешат стрелять на поражение по ...   \n",
       "1  Право полицейских на проникновение в жилище ре...   \n",
       "2  Президент Египта ввел чрезвычайное положение в...   \n",
       "3  Вернувшихся из Сирии россиян волнует вопрос тр...   \n",
       "4  В Москву из Сирии вернулись 2 самолета МЧС с р...   \n",
       "5  Приставы соберут отпечатки пальцев российских ...   \n",
       "6  На саратовского дебошира с борта самолета Моск...   \n",
       "7  ЦИК хочет отказаться от электронной системы по...   \n",
       "8  Суд Петербурга оставил на потом дело о гибели ...   \n",
       "9  Страны ОПЕК сократили добычу нефти на 1 млн ба...   \n",
       "\n",
       "                                               text2  class  \n",
       "0  Полиции могут разрешить стрелять по хулиганам ...      0  \n",
       "1  Правила внесудебного проникновения полицейских...      0  \n",
       "2  Власти Египта угрожают ввести в стране чрезвыч...      0  \n",
       "3  Самолеты МЧС вывезут россиян из разрушенной Си...     -1  \n",
       "4  Самолеты МЧС вывезут россиян из разрушенной Си...      0  \n",
       "5  Приставы снимут отпечатки пальцев у злостных н...      1  \n",
       "6  Саратовский дебошир отказывается возвращаться ...     -1  \n",
       "7  ЦИК может отказаться от электронных средств по...      0  \n",
       "8  Лондонский Гайд-парк - это не место для митинг...     -1  \n",
       "9  Обама продлил полномочия НАСА по сотрудничеств...     -1  "
      ]
     },
     "execution_count": 7,
     "metadata": {},
     "output_type": "execute_result"
    }
   ],
   "source": [
    "parphrase_df = pd.DataFrame(par_data)\n",
    "parphrase_df.head(10)"
   ]
  },
  {
   "cell_type": "code",
   "execution_count": 8,
   "metadata": {},
   "outputs": [
    {
     "data": {
      "text/plain": [
       "7227"
      ]
     },
     "execution_count": 8,
     "metadata": {},
     "output_type": "execute_result"
    }
   ],
   "source": [
    "len(parphrase_df)"
   ]
  },
  {
   "cell_type": "markdown",
   "metadata": {},
   "source": [
    "Вот здесь я читала, какие есть способы измерения расстояния в склерн и чем они отличаются\n",
    "https://stackoverflow.com/questions/37303146/distance-metrics-in-scikit-learn\n"
   ]
  },
  {
   "cell_type": "markdown",
   "metadata": {},
   "source": [
    "##### как минимум 4 способами (векторизация + расстояние) посчитайте расстояние между каждой парой предложений (из text1 и text2)\n"
   ]
  },
  {
   "cell_type": "markdown",
   "metadata": {},
   "source": [
    "1. CountVectorizer\n",
    "\n",
    "Сначала попробую с помощью каунтвекторайзера со стандартными параметрами"
   ]
  },
  {
   "cell_type": "code",
   "execution_count": 9,
   "metadata": {},
   "outputs": [
    {
     "data": {
      "text/plain": [
       "CountVectorizer(analyzer='word', binary=False, decode_error='strict',\n",
       "        dtype=<class 'numpy.int64'>, encoding='utf-8', input='content',\n",
       "        lowercase=True, max_df=1.0, max_features=None, min_df=1,\n",
       "        ngram_range=(1, 1), preprocessor=None, stop_words=None,\n",
       "        strip_accents=None, token_pattern='(?u)\\\\b\\\\w\\\\w+\\\\b',\n",
       "        tokenizer=None, vocabulary=None)"
      ]
     },
     "execution_count": 9,
     "metadata": {},
     "output_type": "execute_result"
    }
   ],
   "source": [
    "vectorizer1 = CountVectorizer()\n",
    "vectorizer1.fit(parphrase_df.text1 + parphrase_df.text2)"
   ]
  },
  {
   "cell_type": "markdown",
   "metadata": {},
   "source": [
    "Посчитаю расстояние тремя способами, которые есть в склерн"
   ]
  },
  {
   "cell_type": "code",
   "execution_count": 10,
   "metadata": {},
   "outputs": [],
   "source": [
    "# функция, которая берет данные из строки и считает евклидово расстояние\n",
    "def euc_dist1(row):\n",
    "    sent1 = vectorizer1.transform([row['text1']])\n",
    "    sent2 = vectorizer1.transform([row['text2']])\n",
    "    return euclidean_distances(sent1, sent2)[0][0]\n",
    "    "
   ]
  },
  {
   "cell_type": "code",
   "execution_count": 11,
   "metadata": {},
   "outputs": [],
   "source": [
    "# функция, которая берет данные из строки и считает косинусную близость\n",
    "def cos_dist1(row):\n",
    "    sent1 = vectorizer1.transform([row['text1']])\n",
    "    sent2 = vectorizer1.transform([row['text2']])\n",
    "    return cosine_similarity(sent1, sent2)[0][0]\n",
    "    "
   ]
  },
  {
   "cell_type": "code",
   "execution_count": 12,
   "metadata": {},
   "outputs": [],
   "source": [
    "# функция, которая берет данные из строки и считает манхэттенское расстояние\n",
    "def man_dist1(row):\n",
    "    sent1 = vectorizer1.transform([row['text1']])\n",
    "    sent2 = vectorizer1.transform([row['text2']])\n",
    "    return manhattan_distances(sent1, sent2)[0][0]\n",
    "    "
   ]
  },
  {
   "cell_type": "markdown",
   "metadata": {},
   "source": [
    "Поименую все будущие столбцы с расстояниями просто цифрами, чтобы потом было удобнее их перебирать"
   ]
  },
  {
   "cell_type": "code",
   "execution_count": 13,
   "metadata": {},
   "outputs": [],
   "source": [
    "parphrase_df['1'] = parphrase_df.apply(euc_dist1, axis=1)"
   ]
  },
  {
   "cell_type": "code",
   "execution_count": 14,
   "metadata": {},
   "outputs": [],
   "source": [
    "parphrase_df['2'] = parphrase_df.apply(cos_dist1, axis=1)"
   ]
  },
  {
   "cell_type": "code",
   "execution_count": 15,
   "metadata": {},
   "outputs": [],
   "source": [
    "parphrase_df['3'] = parphrase_df.apply(man_dist1, axis=1)"
   ]
  },
  {
   "cell_type": "code",
   "execution_count": 16,
   "metadata": {},
   "outputs": [
    {
     "data": {
      "text/html": [
       "<div>\n",
       "<style scoped>\n",
       "    .dataframe tbody tr th:only-of-type {\n",
       "        vertical-align: middle;\n",
       "    }\n",
       "\n",
       "    .dataframe tbody tr th {\n",
       "        vertical-align: top;\n",
       "    }\n",
       "\n",
       "    .dataframe thead th {\n",
       "        text-align: right;\n",
       "    }\n",
       "</style>\n",
       "<table border=\"1\" class=\"dataframe\">\n",
       "  <thead>\n",
       "    <tr style=\"text-align: right;\">\n",
       "      <th></th>\n",
       "      <th>text1</th>\n",
       "      <th>text2</th>\n",
       "      <th>class</th>\n",
       "      <th>1</th>\n",
       "      <th>2</th>\n",
       "      <th>3</th>\n",
       "    </tr>\n",
       "  </thead>\n",
       "  <tbody>\n",
       "    <tr>\n",
       "      <th>0</th>\n",
       "      <td>Полицейским разрешат стрелять на поражение по ...</td>\n",
       "      <td>Полиции могут разрешить стрелять по хулиганам ...</td>\n",
       "      <td>0</td>\n",
       "      <td>3.000000</td>\n",
       "      <td>0.400892</td>\n",
       "      <td>9.0</td>\n",
       "    </tr>\n",
       "    <tr>\n",
       "      <th>1</th>\n",
       "      <td>Право полицейских на проникновение в жилище ре...</td>\n",
       "      <td>Правила внесудебного проникновения полицейских...</td>\n",
       "      <td>0</td>\n",
       "      <td>3.000000</td>\n",
       "      <td>0.308607</td>\n",
       "      <td>9.0</td>\n",
       "    </tr>\n",
       "    <tr>\n",
       "      <th>2</th>\n",
       "      <td>Президент Египта ввел чрезвычайное положение в...</td>\n",
       "      <td>Власти Египта угрожают ввести в стране чрезвыч...</td>\n",
       "      <td>0</td>\n",
       "      <td>2.828427</td>\n",
       "      <td>0.428571</td>\n",
       "      <td>8.0</td>\n",
       "    </tr>\n",
       "    <tr>\n",
       "      <th>3</th>\n",
       "      <td>Вернувшихся из Сирии россиян волнует вопрос тр...</td>\n",
       "      <td>Самолеты МЧС вывезут россиян из разрушенной Си...</td>\n",
       "      <td>-1</td>\n",
       "      <td>3.162278</td>\n",
       "      <td>0.377964</td>\n",
       "      <td>10.0</td>\n",
       "    </tr>\n",
       "    <tr>\n",
       "      <th>4</th>\n",
       "      <td>В Москву из Сирии вернулись 2 самолета МЧС с р...</td>\n",
       "      <td>Самолеты МЧС вывезут россиян из разрушенной Си...</td>\n",
       "      <td>0</td>\n",
       "      <td>3.162278</td>\n",
       "      <td>0.377964</td>\n",
       "      <td>10.0</td>\n",
       "    </tr>\n",
       "  </tbody>\n",
       "</table>\n",
       "</div>"
      ],
      "text/plain": [
       "                                               text1  \\\n",
       "0  Полицейским разрешат стрелять на поражение по ...   \n",
       "1  Право полицейских на проникновение в жилище ре...   \n",
       "2  Президент Египта ввел чрезвычайное положение в...   \n",
       "3  Вернувшихся из Сирии россиян волнует вопрос тр...   \n",
       "4  В Москву из Сирии вернулись 2 самолета МЧС с р...   \n",
       "\n",
       "                                               text2  class         1  \\\n",
       "0  Полиции могут разрешить стрелять по хулиганам ...      0  3.000000   \n",
       "1  Правила внесудебного проникновения полицейских...      0  3.000000   \n",
       "2  Власти Египта угрожают ввести в стране чрезвыч...      0  2.828427   \n",
       "3  Самолеты МЧС вывезут россиян из разрушенной Си...     -1  3.162278   \n",
       "4  Самолеты МЧС вывезут россиян из разрушенной Си...      0  3.162278   \n",
       "\n",
       "          2     3  \n",
       "0  0.400892   9.0  \n",
       "1  0.308607   9.0  \n",
       "2  0.428571   8.0  \n",
       "3  0.377964  10.0  \n",
       "4  0.377964  10.0  "
      ]
     },
     "execution_count": 16,
     "metadata": {},
     "output_type": "execute_result"
    }
   ],
   "source": [
    "parphrase_df.head()"
   ]
  },
  {
   "cell_type": "markdown",
   "metadata": {},
   "source": [
    "2. CountVectorizer с параметрами"
   ]
  },
  {
   "cell_type": "markdown",
   "metadata": {},
   "source": [
    "\n",
    "про мин-дф и макс-дф я прочла здесь\n",
    "https://stackoverflow.com/questions/27697766/understanding-min-df-and-max-df-in-scikit-countvectorizer\n",
    "\n",
    "взяла ngram_range=(1, 2), чтобы учесть и просто слова и биграммы"
   ]
  },
  {
   "cell_type": "code",
   "execution_count": 17,
   "metadata": {},
   "outputs": [],
   "source": [
    "# возьму расширенный список стоп-слов\n",
    "with open('stopwords-ru.txt', encoding='utf-8') as f:\n",
    "    content = f.readlines()\n",
    "stopwords_full = [x.strip() for x in content]"
   ]
  },
  {
   "cell_type": "code",
   "execution_count": 19,
   "metadata": {},
   "outputs": [
    {
     "data": {
      "text/plain": [
       "CountVectorizer(analyzer='word', binary=False, decode_error='strict',\n",
       "        dtype=<class 'numpy.int64'>, encoding='utf-8', input='content',\n",
       "        lowercase=True, max_df=0.9, max_features=None, min_df=1,\n",
       "        ngram_range=(1, 2), preprocessor=None,\n",
       "        stop_words=['c', 'а', 'алло', 'без', 'белый', 'близко', 'более', 'больше', 'большой', 'будем', 'будет', 'будете', 'будешь', 'будто', 'буду', 'будут', 'будь', 'бы', 'бывает', 'бывь', 'был', 'была', 'были', 'было', 'быть', 'в', 'важная', 'важное', 'важные', 'важный', 'вам', 'вами', 'вас', 'ваш', 'ваша...и', 'этим', 'этими', 'этих', 'это', 'этого', 'этой', 'этом', 'этому', 'этот', 'эту', 'я', 'являюсь'],\n",
       "        strip_accents=None, token_pattern='(?u)\\\\b\\\\w\\\\w+\\\\b',\n",
       "        tokenizer=<function word_tokenize at 0x0000021C1863F510>,\n",
       "        vocabulary=None)"
      ]
     },
     "execution_count": 19,
     "metadata": {},
     "output_type": "execute_result"
    }
   ],
   "source": [
    "vectorizer2 = CountVectorizer(stop_words=stopwords_full, max_df = 0.90, ngram_range=(1, 2),analyzer = 'word', tokenizer = word_tokenize)\n",
    "vectorizer2.fit(parphrase_df.text1 + parphrase_df.text2)"
   ]
  },
  {
   "cell_type": "markdown",
   "metadata": {},
   "source": [
    "Функции, которые будут возвращать расстояние между предложениями:"
   ]
  },
  {
   "cell_type": "code",
   "execution_count": 20,
   "metadata": {},
   "outputs": [],
   "source": [
    "def euc_dist2(row):\n",
    "    sent1 = vectorizer2.transform([row['text1']])\n",
    "    sent2 = vectorizer2.transform([row['text2']])\n",
    "    return euclidean_distances(sent1, sent2)[0][0]"
   ]
  },
  {
   "cell_type": "code",
   "execution_count": 21,
   "metadata": {},
   "outputs": [],
   "source": [
    "def cos_dist2(row):\n",
    "    sent1 = vectorizer2.transform([row['text1']])\n",
    "    sent2 = vectorizer2.transform([row['text2']])\n",
    "    return cosine_similarity(sent1, sent2)[0][0]"
   ]
  },
  {
   "cell_type": "code",
   "execution_count": 22,
   "metadata": {},
   "outputs": [],
   "source": [
    "def man_dist2(row):\n",
    "    sent1 = vectorizer2.transform([row['text1']])\n",
    "    sent2 = vectorizer2.transform([row['text2']])\n",
    "    return manhattan_distances(sent1, sent2)[0][0]\n",
    "    "
   ]
  },
  {
   "cell_type": "code",
   "execution_count": 23,
   "metadata": {},
   "outputs": [],
   "source": [
    "parphrase_df['4'] = parphrase_df.apply(euc_dist2, axis=1)"
   ]
  },
  {
   "cell_type": "code",
   "execution_count": 24,
   "metadata": {},
   "outputs": [],
   "source": [
    "parphrase_df['5'] = parphrase_df.apply(cos_dist2, axis=1)"
   ]
  },
  {
   "cell_type": "code",
   "execution_count": 25,
   "metadata": {},
   "outputs": [],
   "source": [
    "parphrase_df['6'] = parphrase_df.apply(man_dist2, axis=1)"
   ]
  },
  {
   "cell_type": "code",
   "execution_count": 26,
   "metadata": {},
   "outputs": [
    {
     "data": {
      "text/html": [
       "<div>\n",
       "<style scoped>\n",
       "    .dataframe tbody tr th:only-of-type {\n",
       "        vertical-align: middle;\n",
       "    }\n",
       "\n",
       "    .dataframe tbody tr th {\n",
       "        vertical-align: top;\n",
       "    }\n",
       "\n",
       "    .dataframe thead th {\n",
       "        text-align: right;\n",
       "    }\n",
       "</style>\n",
       "<table border=\"1\" class=\"dataframe\">\n",
       "  <thead>\n",
       "    <tr style=\"text-align: right;\">\n",
       "      <th></th>\n",
       "      <th>text1</th>\n",
       "      <th>text2</th>\n",
       "      <th>class</th>\n",
       "      <th>1</th>\n",
       "      <th>2</th>\n",
       "      <th>3</th>\n",
       "      <th>4</th>\n",
       "      <th>5</th>\n",
       "      <th>6</th>\n",
       "    </tr>\n",
       "  </thead>\n",
       "  <tbody>\n",
       "    <tr>\n",
       "      <th>0</th>\n",
       "      <td>Полицейским разрешат стрелять на поражение по ...</td>\n",
       "      <td>Полиции могут разрешить стрелять по хулиганам ...</td>\n",
       "      <td>0</td>\n",
       "      <td>3.000000</td>\n",
       "      <td>0.400892</td>\n",
       "      <td>9.0</td>\n",
       "      <td>3.741657</td>\n",
       "      <td>0.365148</td>\n",
       "      <td>14.0</td>\n",
       "    </tr>\n",
       "    <tr>\n",
       "      <th>1</th>\n",
       "      <td>Право полицейских на проникновение в жилище ре...</td>\n",
       "      <td>Правила внесудебного проникновения полицейских...</td>\n",
       "      <td>0</td>\n",
       "      <td>3.000000</td>\n",
       "      <td>0.308607</td>\n",
       "      <td>9.0</td>\n",
       "      <td>4.123106</td>\n",
       "      <td>0.261116</td>\n",
       "      <td>17.0</td>\n",
       "    </tr>\n",
       "    <tr>\n",
       "      <th>2</th>\n",
       "      <td>Президент Египта ввел чрезвычайное положение в...</td>\n",
       "      <td>Власти Египта угрожают ввести в стране чрезвыч...</td>\n",
       "      <td>0</td>\n",
       "      <td>2.828427</td>\n",
       "      <td>0.428571</td>\n",
       "      <td>8.0</td>\n",
       "      <td>4.123106</td>\n",
       "      <td>0.370625</td>\n",
       "      <td>17.0</td>\n",
       "    </tr>\n",
       "    <tr>\n",
       "      <th>3</th>\n",
       "      <td>Вернувшихся из Сирии россиян волнует вопрос тр...</td>\n",
       "      <td>Самолеты МЧС вывезут россиян из разрушенной Си...</td>\n",
       "      <td>-1</td>\n",
       "      <td>3.162278</td>\n",
       "      <td>0.377964</td>\n",
       "      <td>10.0</td>\n",
       "      <td>4.358899</td>\n",
       "      <td>0.240192</td>\n",
       "      <td>19.0</td>\n",
       "    </tr>\n",
       "    <tr>\n",
       "      <th>4</th>\n",
       "      <td>В Москву из Сирии вернулись 2 самолета МЧС с р...</td>\n",
       "      <td>Самолеты МЧС вывезут россиян из разрушенной Си...</td>\n",
       "      <td>0</td>\n",
       "      <td>3.162278</td>\n",
       "      <td>0.377964</td>\n",
       "      <td>10.0</td>\n",
       "      <td>4.898979</td>\n",
       "      <td>0.201802</td>\n",
       "      <td>24.0</td>\n",
       "    </tr>\n",
       "  </tbody>\n",
       "</table>\n",
       "</div>"
      ],
      "text/plain": [
       "                                               text1  \\\n",
       "0  Полицейским разрешат стрелять на поражение по ...   \n",
       "1  Право полицейских на проникновение в жилище ре...   \n",
       "2  Президент Египта ввел чрезвычайное положение в...   \n",
       "3  Вернувшихся из Сирии россиян волнует вопрос тр...   \n",
       "4  В Москву из Сирии вернулись 2 самолета МЧС с р...   \n",
       "\n",
       "                                               text2  class         1  \\\n",
       "0  Полиции могут разрешить стрелять по хулиганам ...      0  3.000000   \n",
       "1  Правила внесудебного проникновения полицейских...      0  3.000000   \n",
       "2  Власти Египта угрожают ввести в стране чрезвыч...      0  2.828427   \n",
       "3  Самолеты МЧС вывезут россиян из разрушенной Си...     -1  3.162278   \n",
       "4  Самолеты МЧС вывезут россиян из разрушенной Си...      0  3.162278   \n",
       "\n",
       "          2     3         4         5     6  \n",
       "0  0.400892   9.0  3.741657  0.365148  14.0  \n",
       "1  0.308607   9.0  4.123106  0.261116  17.0  \n",
       "2  0.428571   8.0  4.123106  0.370625  17.0  \n",
       "3  0.377964  10.0  4.358899  0.240192  19.0  \n",
       "4  0.377964  10.0  4.898979  0.201802  24.0  "
      ]
     },
     "execution_count": 26,
     "metadata": {},
     "output_type": "execute_result"
    }
   ],
   "source": [
    "parphrase_df.head()"
   ]
  },
  {
   "cell_type": "markdown",
   "metadata": {},
   "source": [
    "3. TruncatedSVD\n",
    "\n",
    "Делаю то же самое третьим способом:"
   ]
  },
  {
   "cell_type": "code",
   "execution_count": 27,
   "metadata": {},
   "outputs": [],
   "source": [
    "svd = TruncatedSVD(n_components=300, n_iter=7)"
   ]
  },
  {
   "cell_type": "code",
   "execution_count": 28,
   "metadata": {},
   "outputs": [
    {
     "data": {
      "text/plain": [
       "TruncatedSVD(algorithm='randomized', n_components=300, n_iter=7,\n",
       "       random_state=None, tol=0.0)"
      ]
     },
     "execution_count": 28,
     "metadata": {},
     "output_type": "execute_result"
    }
   ],
   "source": [
    "vectorizer3 = CountVectorizer()\n",
    "bow = vectorizer3.fit_transform(parphrase_df.text1 + parphrase_df.text2)\n",
    "svd.fit(bow)"
   ]
  },
  {
   "cell_type": "code",
   "execution_count": 29,
   "metadata": {},
   "outputs": [],
   "source": [
    "def euc_dist3(row):\n",
    "    sent1 = svd.transform(vectorizer3.transform([row['text1']]))\n",
    "    sent2 = svd.transform(vectorizer3.transform([row['text2']]))\n",
    "    return euclidean_distances(sent1, sent2)[0][0]"
   ]
  },
  {
   "cell_type": "code",
   "execution_count": 30,
   "metadata": {},
   "outputs": [],
   "source": [
    "def cos_dist3(row):\n",
    "    sent1 = svd.transform(vectorizer3.transform([row['text1']]))\n",
    "    sent2 = svd.transform(vectorizer3.transform([row['text2']]))\n",
    "    return cosine_similarity(sent1, sent2)[0][0]"
   ]
  },
  {
   "cell_type": "code",
   "execution_count": 31,
   "metadata": {},
   "outputs": [],
   "source": [
    "def man_dist3(row):\n",
    "    sent1 = svd.transform(vectorizer3.transform([row['text1']]))\n",
    "    sent2 = svd.transform(vectorizer3.transform([row['text2']]))\n",
    "    return manhattan_distances(sent1, sent2)[0][0]"
   ]
  },
  {
   "cell_type": "code",
   "execution_count": 32,
   "metadata": {},
   "outputs": [],
   "source": [
    "parphrase_df['7'] = parphrase_df.apply(euc_dist3, axis=1)"
   ]
  },
  {
   "cell_type": "code",
   "execution_count": 33,
   "metadata": {},
   "outputs": [],
   "source": [
    "parphrase_df['8'] = parphrase_df.apply(cos_dist3, axis=1)"
   ]
  },
  {
   "cell_type": "code",
   "execution_count": 34,
   "metadata": {},
   "outputs": [],
   "source": [
    "parphrase_df['9'] = parphrase_df.apply(man_dist3, axis=1)"
   ]
  },
  {
   "cell_type": "code",
   "execution_count": 35,
   "metadata": {},
   "outputs": [
    {
     "data": {
      "text/html": [
       "<div>\n",
       "<style scoped>\n",
       "    .dataframe tbody tr th:only-of-type {\n",
       "        vertical-align: middle;\n",
       "    }\n",
       "\n",
       "    .dataframe tbody tr th {\n",
       "        vertical-align: top;\n",
       "    }\n",
       "\n",
       "    .dataframe thead th {\n",
       "        text-align: right;\n",
       "    }\n",
       "</style>\n",
       "<table border=\"1\" class=\"dataframe\">\n",
       "  <thead>\n",
       "    <tr style=\"text-align: right;\">\n",
       "      <th></th>\n",
       "      <th>text1</th>\n",
       "      <th>text2</th>\n",
       "      <th>class</th>\n",
       "      <th>1</th>\n",
       "      <th>2</th>\n",
       "      <th>3</th>\n",
       "      <th>4</th>\n",
       "      <th>5</th>\n",
       "      <th>6</th>\n",
       "      <th>7</th>\n",
       "      <th>8</th>\n",
       "      <th>9</th>\n",
       "    </tr>\n",
       "  </thead>\n",
       "  <tbody>\n",
       "    <tr>\n",
       "      <th>0</th>\n",
       "      <td>Полицейским разрешат стрелять на поражение по ...</td>\n",
       "      <td>Полиции могут разрешить стрелять по хулиганам ...</td>\n",
       "      <td>0</td>\n",
       "      <td>3.000000</td>\n",
       "      <td>0.400892</td>\n",
       "      <td>9.0</td>\n",
       "      <td>3.741657</td>\n",
       "      <td>0.365148</td>\n",
       "      <td>14.0</td>\n",
       "      <td>1.350238</td>\n",
       "      <td>0.550983</td>\n",
       "      <td>13.301454</td>\n",
       "    </tr>\n",
       "    <tr>\n",
       "      <th>1</th>\n",
       "      <td>Право полицейских на проникновение в жилище ре...</td>\n",
       "      <td>Правила внесудебного проникновения полицейских...</td>\n",
       "      <td>0</td>\n",
       "      <td>3.000000</td>\n",
       "      <td>0.308607</td>\n",
       "      <td>9.0</td>\n",
       "      <td>4.123106</td>\n",
       "      <td>0.261116</td>\n",
       "      <td>17.0</td>\n",
       "      <td>1.022669</td>\n",
       "      <td>0.732213</td>\n",
       "      <td>4.863660</td>\n",
       "    </tr>\n",
       "    <tr>\n",
       "      <th>2</th>\n",
       "      <td>Президент Египта ввел чрезвычайное положение в...</td>\n",
       "      <td>Власти Египта угрожают ввести в стране чрезвыч...</td>\n",
       "      <td>0</td>\n",
       "      <td>2.828427</td>\n",
       "      <td>0.428571</td>\n",
       "      <td>8.0</td>\n",
       "      <td>4.123106</td>\n",
       "      <td>0.370625</td>\n",
       "      <td>17.0</td>\n",
       "      <td>1.314963</td>\n",
       "      <td>0.334648</td>\n",
       "      <td>13.643393</td>\n",
       "    </tr>\n",
       "    <tr>\n",
       "      <th>3</th>\n",
       "      <td>Вернувшихся из Сирии россиян волнует вопрос тр...</td>\n",
       "      <td>Самолеты МЧС вывезут россиян из разрушенной Си...</td>\n",
       "      <td>-1</td>\n",
       "      <td>3.162278</td>\n",
       "      <td>0.377964</td>\n",
       "      <td>10.0</td>\n",
       "      <td>4.358899</td>\n",
       "      <td>0.240192</td>\n",
       "      <td>19.0</td>\n",
       "      <td>1.502144</td>\n",
       "      <td>0.732007</td>\n",
       "      <td>15.234192</td>\n",
       "    </tr>\n",
       "    <tr>\n",
       "      <th>4</th>\n",
       "      <td>В Москву из Сирии вернулись 2 самолета МЧС с р...</td>\n",
       "      <td>Самолеты МЧС вывезут россиян из разрушенной Си...</td>\n",
       "      <td>0</td>\n",
       "      <td>3.162278</td>\n",
       "      <td>0.377964</td>\n",
       "      <td>10.0</td>\n",
       "      <td>4.898979</td>\n",
       "      <td>0.201802</td>\n",
       "      <td>24.0</td>\n",
       "      <td>2.033996</td>\n",
       "      <td>0.624474</td>\n",
       "      <td>24.367385</td>\n",
       "    </tr>\n",
       "  </tbody>\n",
       "</table>\n",
       "</div>"
      ],
      "text/plain": [
       "                                               text1  \\\n",
       "0  Полицейским разрешат стрелять на поражение по ...   \n",
       "1  Право полицейских на проникновение в жилище ре...   \n",
       "2  Президент Египта ввел чрезвычайное положение в...   \n",
       "3  Вернувшихся из Сирии россиян волнует вопрос тр...   \n",
       "4  В Москву из Сирии вернулись 2 самолета МЧС с р...   \n",
       "\n",
       "                                               text2  class         1  \\\n",
       "0  Полиции могут разрешить стрелять по хулиганам ...      0  3.000000   \n",
       "1  Правила внесудебного проникновения полицейских...      0  3.000000   \n",
       "2  Власти Египта угрожают ввести в стране чрезвыч...      0  2.828427   \n",
       "3  Самолеты МЧС вывезут россиян из разрушенной Си...     -1  3.162278   \n",
       "4  Самолеты МЧС вывезут россиян из разрушенной Си...      0  3.162278   \n",
       "\n",
       "          2     3         4         5     6         7         8          9  \n",
       "0  0.400892   9.0  3.741657  0.365148  14.0  1.350238  0.550983  13.301454  \n",
       "1  0.308607   9.0  4.123106  0.261116  17.0  1.022669  0.732213   4.863660  \n",
       "2  0.428571   8.0  4.123106  0.370625  17.0  1.314963  0.334648  13.643393  \n",
       "3  0.377964  10.0  4.358899  0.240192  19.0  1.502144  0.732007  15.234192  \n",
       "4  0.377964  10.0  4.898979  0.201802  24.0  2.033996  0.624474  24.367385  "
      ]
     },
     "execution_count": 35,
     "metadata": {},
     "output_type": "execute_result"
    }
   ],
   "source": [
    "parphrase_df.head()"
   ]
  },
  {
   "cell_type": "markdown",
   "metadata": {},
   "source": [
    "4. word2vec ( тайга )\n",
    "\n",
    "и четвертым способом:"
   ]
  },
  {
   "cell_type": "code",
   "execution_count": 36,
   "metadata": {},
   "outputs": [],
   "source": [
    "def embed_text(text):\n",
    "    text = word_tokenize(text)\n",
    "    vec_sum = 0\n",
    "    for el in text:\n",
    "        try:\n",
    "            vec_sum += m[el]\n",
    "        except:\n",
    "            pass\n",
    "    return vec_sum"
   ]
  },
  {
   "cell_type": "code",
   "execution_count": 37,
   "metadata": {},
   "outputs": [],
   "source": [
    "def euc_dist4(row):\n",
    "    sent1 = [embed_text(row['text1'])]\n",
    "    sent2 = [embed_text(row['text2'])]\n",
    "    return euclidean_distances(sent1, sent2)[0][0]"
   ]
  },
  {
   "cell_type": "code",
   "execution_count": 38,
   "metadata": {},
   "outputs": [],
   "source": [
    "def cos_dist4(row):\n",
    "    sent1 = [embed_text(row['text1'])]\n",
    "    sent2 = [embed_text(row['text2'])]\n",
    "    return cosine_similarity(sent1, sent2)[0][0]"
   ]
  },
  {
   "cell_type": "code",
   "execution_count": 39,
   "metadata": {},
   "outputs": [],
   "source": [
    "def man_dist4(row):\n",
    "    sent1 = [embed_text(row['text1'])]\n",
    "    sent2 = [embed_text(row['text2'])]\n",
    "    return manhattan_distances(sent1, sent2)[0][0]"
   ]
  },
  {
   "cell_type": "code",
   "execution_count": 40,
   "metadata": {},
   "outputs": [],
   "source": [
    "parphrase_df['10'] = parphrase_df.apply(euc_dist4, axis=1)"
   ]
  },
  {
   "cell_type": "code",
   "execution_count": 41,
   "metadata": {},
   "outputs": [],
   "source": [
    "parphrase_df['11'] = parphrase_df.apply(cos_dist4, axis=1)"
   ]
  },
  {
   "cell_type": "code",
   "execution_count": 42,
   "metadata": {},
   "outputs": [],
   "source": [
    "parphrase_df['12'] = parphrase_df.apply(man_dist4, axis=1)"
   ]
  },
  {
   "cell_type": "code",
   "execution_count": 43,
   "metadata": {
    "collapsed": true
   },
   "outputs": [
    {
     "data": {
      "text/html": [
       "<div>\n",
       "<style scoped>\n",
       "    .dataframe tbody tr th:only-of-type {\n",
       "        vertical-align: middle;\n",
       "    }\n",
       "\n",
       "    .dataframe tbody tr th {\n",
       "        vertical-align: top;\n",
       "    }\n",
       "\n",
       "    .dataframe thead th {\n",
       "        text-align: right;\n",
       "    }\n",
       "</style>\n",
       "<table border=\"1\" class=\"dataframe\">\n",
       "  <thead>\n",
       "    <tr style=\"text-align: right;\">\n",
       "      <th></th>\n",
       "      <th>text1</th>\n",
       "      <th>text2</th>\n",
       "      <th>class</th>\n",
       "      <th>1</th>\n",
       "      <th>2</th>\n",
       "      <th>3</th>\n",
       "      <th>4</th>\n",
       "      <th>5</th>\n",
       "      <th>6</th>\n",
       "      <th>7</th>\n",
       "      <th>8</th>\n",
       "      <th>9</th>\n",
       "      <th>10</th>\n",
       "      <th>11</th>\n",
       "      <th>12</th>\n",
       "    </tr>\n",
       "  </thead>\n",
       "  <tbody>\n",
       "    <tr>\n",
       "      <th>0</th>\n",
       "      <td>Полицейским разрешат стрелять на поражение по ...</td>\n",
       "      <td>Полиции могут разрешить стрелять по хулиганам ...</td>\n",
       "      <td>0</td>\n",
       "      <td>3.000000</td>\n",
       "      <td>0.400892</td>\n",
       "      <td>9.0</td>\n",
       "      <td>3.741657</td>\n",
       "      <td>0.365148</td>\n",
       "      <td>14.0</td>\n",
       "      <td>1.350238</td>\n",
       "      <td>0.550983</td>\n",
       "      <td>13.301454</td>\n",
       "      <td>71.748291</td>\n",
       "      <td>0.788704</td>\n",
       "      <td>976.753424</td>\n",
       "    </tr>\n",
       "    <tr>\n",
       "      <th>1</th>\n",
       "      <td>Право полицейских на проникновение в жилище ре...</td>\n",
       "      <td>Правила внесудебного проникновения полицейских...</td>\n",
       "      <td>0</td>\n",
       "      <td>3.000000</td>\n",
       "      <td>0.308607</td>\n",
       "      <td>9.0</td>\n",
       "      <td>4.123106</td>\n",
       "      <td>0.261116</td>\n",
       "      <td>17.0</td>\n",
       "      <td>1.022669</td>\n",
       "      <td>0.732213</td>\n",
       "      <td>4.863660</td>\n",
       "      <td>72.766319</td>\n",
       "      <td>0.601266</td>\n",
       "      <td>975.334097</td>\n",
       "    </tr>\n",
       "    <tr>\n",
       "      <th>2</th>\n",
       "      <td>Президент Египта ввел чрезвычайное положение в...</td>\n",
       "      <td>Власти Египта угрожают ввести в стране чрезвыч...</td>\n",
       "      <td>0</td>\n",
       "      <td>2.828427</td>\n",
       "      <td>0.428571</td>\n",
       "      <td>8.0</td>\n",
       "      <td>4.123106</td>\n",
       "      <td>0.370625</td>\n",
       "      <td>17.0</td>\n",
       "      <td>1.314963</td>\n",
       "      <td>0.334648</td>\n",
       "      <td>13.643393</td>\n",
       "      <td>84.052299</td>\n",
       "      <td>0.607760</td>\n",
       "      <td>1123.061437</td>\n",
       "    </tr>\n",
       "    <tr>\n",
       "      <th>3</th>\n",
       "      <td>Вернувшихся из Сирии россиян волнует вопрос тр...</td>\n",
       "      <td>Самолеты МЧС вывезут россиян из разрушенной Си...</td>\n",
       "      <td>-1</td>\n",
       "      <td>3.162278</td>\n",
       "      <td>0.377964</td>\n",
       "      <td>10.0</td>\n",
       "      <td>4.358899</td>\n",
       "      <td>0.240192</td>\n",
       "      <td>19.0</td>\n",
       "      <td>1.502144</td>\n",
       "      <td>0.732007</td>\n",
       "      <td>15.234192</td>\n",
       "      <td>94.067535</td>\n",
       "      <td>0.634141</td>\n",
       "      <td>1321.738400</td>\n",
       "    </tr>\n",
       "    <tr>\n",
       "      <th>4</th>\n",
       "      <td>В Москву из Сирии вернулись 2 самолета МЧС с р...</td>\n",
       "      <td>Самолеты МЧС вывезут россиян из разрушенной Си...</td>\n",
       "      <td>0</td>\n",
       "      <td>3.162278</td>\n",
       "      <td>0.377964</td>\n",
       "      <td>10.0</td>\n",
       "      <td>4.898979</td>\n",
       "      <td>0.201802</td>\n",
       "      <td>24.0</td>\n",
       "      <td>2.033996</td>\n",
       "      <td>0.624474</td>\n",
       "      <td>24.367385</td>\n",
       "      <td>67.911362</td>\n",
       "      <td>0.793717</td>\n",
       "      <td>955.087932</td>\n",
       "    </tr>\n",
       "    <tr>\n",
       "      <th>5</th>\n",
       "      <td>Приставы соберут отпечатки пальцев российских ...</td>\n",
       "      <td>Приставы снимут отпечатки пальцев у злостных н...</td>\n",
       "      <td>1</td>\n",
       "      <td>2.449490</td>\n",
       "      <td>0.500000</td>\n",
       "      <td>6.0</td>\n",
       "      <td>3.605551</td>\n",
       "      <td>0.435194</td>\n",
       "      <td>13.0</td>\n",
       "      <td>0.905337</td>\n",
       "      <td>0.538458</td>\n",
       "      <td>9.759748</td>\n",
       "      <td>53.680878</td>\n",
       "      <td>0.755837</td>\n",
       "      <td>736.760647</td>\n",
       "    </tr>\n",
       "    <tr>\n",
       "      <th>6</th>\n",
       "      <td>На саратовского дебошира с борта самолета Моск...</td>\n",
       "      <td>Саратовский дебошир отказывается возвращаться ...</td>\n",
       "      <td>-1</td>\n",
       "      <td>4.000000</td>\n",
       "      <td>0.000000</td>\n",
       "      <td>16.0</td>\n",
       "      <td>4.795832</td>\n",
       "      <td>0.080582</td>\n",
       "      <td>23.0</td>\n",
       "      <td>2.141541</td>\n",
       "      <td>0.088635</td>\n",
       "      <td>23.541625</td>\n",
       "      <td>115.997894</td>\n",
       "      <td>0.304224</td>\n",
       "      <td>1610.742023</td>\n",
       "    </tr>\n",
       "    <tr>\n",
       "      <th>7</th>\n",
       "      <td>ЦИК хочет отказаться от электронной системы по...</td>\n",
       "      <td>ЦИК может отказаться от электронных средств по...</td>\n",
       "      <td>0</td>\n",
       "      <td>2.449490</td>\n",
       "      <td>0.625000</td>\n",
       "      <td>6.0</td>\n",
       "      <td>3.605551</td>\n",
       "      <td>0.521749</td>\n",
       "      <td>13.0</td>\n",
       "      <td>0.917058</td>\n",
       "      <td>0.822436</td>\n",
       "      <td>11.203557</td>\n",
       "      <td>43.462032</td>\n",
       "      <td>0.913547</td>\n",
       "      <td>611.457537</td>\n",
       "    </tr>\n",
       "    <tr>\n",
       "      <th>8</th>\n",
       "      <td>Суд Петербурга оставил на потом дело о гибели ...</td>\n",
       "      <td>Лондонский Гайд-парк - это не место для митинг...</td>\n",
       "      <td>-1</td>\n",
       "      <td>4.690416</td>\n",
       "      <td>0.000000</td>\n",
       "      <td>20.0</td>\n",
       "      <td>4.898979</td>\n",
       "      <td>0.077152</td>\n",
       "      <td>24.0</td>\n",
       "      <td>2.508501</td>\n",
       "      <td>0.110205</td>\n",
       "      <td>25.380437</td>\n",
       "      <td>150.463181</td>\n",
       "      <td>0.305421</td>\n",
       "      <td>2084.780885</td>\n",
       "    </tr>\n",
       "    <tr>\n",
       "      <th>9</th>\n",
       "      <td>Страны ОПЕК сократили добычу нефти на 1 млн ба...</td>\n",
       "      <td>Обама продлил полномочия НАСА по сотрудничеств...</td>\n",
       "      <td>-1</td>\n",
       "      <td>4.000000</td>\n",
       "      <td>0.000000</td>\n",
       "      <td>16.0</td>\n",
       "      <td>5.099020</td>\n",
       "      <td>0.072169</td>\n",
       "      <td>26.0</td>\n",
       "      <td>2.006057</td>\n",
       "      <td>0.100294</td>\n",
       "      <td>22.074074</td>\n",
       "      <td>128.294266</td>\n",
       "      <td>0.354124</td>\n",
       "      <td>1842.915286</td>\n",
       "    </tr>\n",
       "  </tbody>\n",
       "</table>\n",
       "</div>"
      ],
      "text/plain": [
       "                                               text1  \\\n",
       "0  Полицейским разрешат стрелять на поражение по ...   \n",
       "1  Право полицейских на проникновение в жилище ре...   \n",
       "2  Президент Египта ввел чрезвычайное положение в...   \n",
       "3  Вернувшихся из Сирии россиян волнует вопрос тр...   \n",
       "4  В Москву из Сирии вернулись 2 самолета МЧС с р...   \n",
       "5  Приставы соберут отпечатки пальцев российских ...   \n",
       "6  На саратовского дебошира с борта самолета Моск...   \n",
       "7  ЦИК хочет отказаться от электронной системы по...   \n",
       "8  Суд Петербурга оставил на потом дело о гибели ...   \n",
       "9  Страны ОПЕК сократили добычу нефти на 1 млн ба...   \n",
       "\n",
       "                                               text2  class         1  \\\n",
       "0  Полиции могут разрешить стрелять по хулиганам ...      0  3.000000   \n",
       "1  Правила внесудебного проникновения полицейских...      0  3.000000   \n",
       "2  Власти Египта угрожают ввести в стране чрезвыч...      0  2.828427   \n",
       "3  Самолеты МЧС вывезут россиян из разрушенной Си...     -1  3.162278   \n",
       "4  Самолеты МЧС вывезут россиян из разрушенной Си...      0  3.162278   \n",
       "5  Приставы снимут отпечатки пальцев у злостных н...      1  2.449490   \n",
       "6  Саратовский дебошир отказывается возвращаться ...     -1  4.000000   \n",
       "7  ЦИК может отказаться от электронных средств по...      0  2.449490   \n",
       "8  Лондонский Гайд-парк - это не место для митинг...     -1  4.690416   \n",
       "9  Обама продлил полномочия НАСА по сотрудничеств...     -1  4.000000   \n",
       "\n",
       "          2     3         4         5     6         7         8          9  \\\n",
       "0  0.400892   9.0  3.741657  0.365148  14.0  1.350238  0.550983  13.301454   \n",
       "1  0.308607   9.0  4.123106  0.261116  17.0  1.022669  0.732213   4.863660   \n",
       "2  0.428571   8.0  4.123106  0.370625  17.0  1.314963  0.334648  13.643393   \n",
       "3  0.377964  10.0  4.358899  0.240192  19.0  1.502144  0.732007  15.234192   \n",
       "4  0.377964  10.0  4.898979  0.201802  24.0  2.033996  0.624474  24.367385   \n",
       "5  0.500000   6.0  3.605551  0.435194  13.0  0.905337  0.538458   9.759748   \n",
       "6  0.000000  16.0  4.795832  0.080582  23.0  2.141541  0.088635  23.541625   \n",
       "7  0.625000   6.0  3.605551  0.521749  13.0  0.917058  0.822436  11.203557   \n",
       "8  0.000000  20.0  4.898979  0.077152  24.0  2.508501  0.110205  25.380437   \n",
       "9  0.000000  16.0  5.099020  0.072169  26.0  2.006057  0.100294  22.074074   \n",
       "\n",
       "           10        11           12  \n",
       "0   71.748291  0.788704   976.753424  \n",
       "1   72.766319  0.601266   975.334097  \n",
       "2   84.052299  0.607760  1123.061437  \n",
       "3   94.067535  0.634141  1321.738400  \n",
       "4   67.911362  0.793717   955.087932  \n",
       "5   53.680878  0.755837   736.760647  \n",
       "6  115.997894  0.304224  1610.742023  \n",
       "7   43.462032  0.913547   611.457537  \n",
       "8  150.463181  0.305421  2084.780885  \n",
       "9  128.294266  0.354124  1842.915286  "
      ]
     },
     "execution_count": 43,
     "metadata": {},
     "output_type": "execute_result"
    }
   ],
   "source": [
    "parphrase_df.head(10)"
   ]
  },
  {
   "cell_type": "markdown",
   "metadata": {},
   "source": [
    "5. Tf-idf Vectorizer\n",
    "\n",
    "И попробую еще тфдф векторайзер, просто так, посмотреть, будет ли от него польза"
   ]
  },
  {
   "cell_type": "code",
   "execution_count": 117,
   "metadata": {},
   "outputs": [
    {
     "data": {
      "text/plain": [
       "TfidfVectorizer(analyzer='word', binary=False, decode_error='strict',\n",
       "        dtype=<class 'numpy.int64'>, encoding='utf-8', input='content',\n",
       "        lowercase=True, max_df=1.0, max_features=None, min_df=1,\n",
       "        ngram_range=(1, 1), norm='l2', preprocessor=None, smooth_idf=True,\n",
       "        stop_words=None, strip_accents=None, sublinear_tf=False,\n",
       "        token_pattern='(?u)\\\\b\\\\w\\\\w+\\\\b', tokenizer=None, use_idf=True,\n",
       "        vocabulary=None)"
      ]
     },
     "execution_count": 117,
     "metadata": {},
     "output_type": "execute_result"
    }
   ],
   "source": [
    "vectorizer4 = TfidfVectorizer()\n",
    "vectorizer4.fit(parphrase_df.text1 + parphrase_df.text2)"
   ]
  },
  {
   "cell_type": "code",
   "execution_count": 118,
   "metadata": {},
   "outputs": [],
   "source": [
    "def euc_dist5(row):\n",
    "    sent1 = vectorizer4.transform([row['text1']])\n",
    "    sent2 = vectorizer4.transform([row['text2']])\n",
    "    return euclidean_distances(sent1, sent2)[0][0]\n",
    "    "
   ]
  },
  {
   "cell_type": "code",
   "execution_count": 119,
   "metadata": {},
   "outputs": [],
   "source": [
    "def cos_dist5(row):\n",
    "    sent1 = vectorizer4.transform([row['text1']])\n",
    "    sent2 = vectorizer4.transform([row['text2']])\n",
    "    return cosine_similarity(sent1, sent2)[0][0]\n",
    "    "
   ]
  },
  {
   "cell_type": "code",
   "execution_count": 120,
   "metadata": {
    "collapsed": true
   },
   "outputs": [],
   "source": [
    "def man_dist5(row):\n",
    "    sent1 = vectorizer4.transform([row['text1']])\n",
    "    sent2 = vectorizer4.transform([row['text2']])\n",
    "    return manhattan_distances(sent1, sent2)[0][0]\n",
    "    "
   ]
  },
  {
   "cell_type": "code",
   "execution_count": 121,
   "metadata": {},
   "outputs": [],
   "source": [
    "parphrase_df['13'] = parphrase_df.apply(euc_dist5, axis=1)"
   ]
  },
  {
   "cell_type": "code",
   "execution_count": 122,
   "metadata": {},
   "outputs": [],
   "source": [
    "parphrase_df['14'] = parphrase_df.apply(cos_dist5, axis=1)"
   ]
  },
  {
   "cell_type": "code",
   "execution_count": 123,
   "metadata": {},
   "outputs": [],
   "source": [
    "parphrase_df['15'] = parphrase_df.apply(man_dist5, axis=1)"
   ]
  },
  {
   "cell_type": "code",
   "execution_count": 124,
   "metadata": {
    "collapsed": true
   },
   "outputs": [
    {
     "data": {
      "text/html": [
       "<div>\n",
       "<style scoped>\n",
       "    .dataframe tbody tr th:only-of-type {\n",
       "        vertical-align: middle;\n",
       "    }\n",
       "\n",
       "    .dataframe tbody tr th {\n",
       "        vertical-align: top;\n",
       "    }\n",
       "\n",
       "    .dataframe thead th {\n",
       "        text-align: right;\n",
       "    }\n",
       "</style>\n",
       "<table border=\"1\" class=\"dataframe\">\n",
       "  <thead>\n",
       "    <tr style=\"text-align: right;\">\n",
       "      <th></th>\n",
       "      <th>text1</th>\n",
       "      <th>text2</th>\n",
       "      <th>class</th>\n",
       "      <th>1</th>\n",
       "      <th>2</th>\n",
       "      <th>3</th>\n",
       "      <th>4</th>\n",
       "      <th>5</th>\n",
       "      <th>6</th>\n",
       "      <th>7</th>\n",
       "      <th>8</th>\n",
       "      <th>9</th>\n",
       "      <th>10</th>\n",
       "      <th>11</th>\n",
       "      <th>12</th>\n",
       "      <th>13</th>\n",
       "      <th>14</th>\n",
       "      <th>15</th>\n",
       "    </tr>\n",
       "  </thead>\n",
       "  <tbody>\n",
       "    <tr>\n",
       "      <th>0</th>\n",
       "      <td>Полицейским разрешат стрелять на поражение по ...</td>\n",
       "      <td>Полиции могут разрешить стрелять по хулиганам ...</td>\n",
       "      <td>0</td>\n",
       "      <td>3.000000</td>\n",
       "      <td>0.400892</td>\n",
       "      <td>9.0</td>\n",
       "      <td>3.741657</td>\n",
       "      <td>0.365148</td>\n",
       "      <td>14.0</td>\n",
       "      <td>1.350238</td>\n",
       "      <td>0.550983</td>\n",
       "      <td>13.301454</td>\n",
       "      <td>71.748291</td>\n",
       "      <td>0.788704</td>\n",
       "      <td>976.753424</td>\n",
       "      <td>1.075894</td>\n",
       "      <td>0.421226</td>\n",
       "      <td>3.178169</td>\n",
       "    </tr>\n",
       "    <tr>\n",
       "      <th>1</th>\n",
       "      <td>Право полицейских на проникновение в жилище ре...</td>\n",
       "      <td>Правила внесудебного проникновения полицейских...</td>\n",
       "      <td>0</td>\n",
       "      <td>3.000000</td>\n",
       "      <td>0.308607</td>\n",
       "      <td>9.0</td>\n",
       "      <td>4.123106</td>\n",
       "      <td>0.261116</td>\n",
       "      <td>17.0</td>\n",
       "      <td>1.022669</td>\n",
       "      <td>0.732213</td>\n",
       "      <td>4.863660</td>\n",
       "      <td>72.766319</td>\n",
       "      <td>0.601266</td>\n",
       "      <td>975.334097</td>\n",
       "      <td>1.193534</td>\n",
       "      <td>0.287738</td>\n",
       "      <td>3.536441</td>\n",
       "    </tr>\n",
       "    <tr>\n",
       "      <th>2</th>\n",
       "      <td>Президент Египта ввел чрезвычайное положение в...</td>\n",
       "      <td>Власти Египта угрожают ввести в стране чрезвыч...</td>\n",
       "      <td>0</td>\n",
       "      <td>2.828427</td>\n",
       "      <td>0.428571</td>\n",
       "      <td>8.0</td>\n",
       "      <td>4.123106</td>\n",
       "      <td>0.370625</td>\n",
       "      <td>17.0</td>\n",
       "      <td>1.314963</td>\n",
       "      <td>0.334648</td>\n",
       "      <td>13.643393</td>\n",
       "      <td>84.052299</td>\n",
       "      <td>0.607760</td>\n",
       "      <td>1123.061437</td>\n",
       "      <td>1.070642</td>\n",
       "      <td>0.426863</td>\n",
       "      <td>3.029923</td>\n",
       "    </tr>\n",
       "    <tr>\n",
       "      <th>3</th>\n",
       "      <td>Вернувшихся из Сирии россиян волнует вопрос тр...</td>\n",
       "      <td>Самолеты МЧС вывезут россиян из разрушенной Си...</td>\n",
       "      <td>-1</td>\n",
       "      <td>3.162278</td>\n",
       "      <td>0.377964</td>\n",
       "      <td>10.0</td>\n",
       "      <td>4.358899</td>\n",
       "      <td>0.240192</td>\n",
       "      <td>19.0</td>\n",
       "      <td>1.502144</td>\n",
       "      <td>0.732007</td>\n",
       "      <td>15.234192</td>\n",
       "      <td>94.067535</td>\n",
       "      <td>0.634141</td>\n",
       "      <td>1321.738400</td>\n",
       "      <td>1.262361</td>\n",
       "      <td>0.203222</td>\n",
       "      <td>3.954934</td>\n",
       "    </tr>\n",
       "    <tr>\n",
       "      <th>4</th>\n",
       "      <td>В Москву из Сирии вернулись 2 самолета МЧС с р...</td>\n",
       "      <td>Самолеты МЧС вывезут россиян из разрушенной Си...</td>\n",
       "      <td>0</td>\n",
       "      <td>3.162278</td>\n",
       "      <td>0.377964</td>\n",
       "      <td>10.0</td>\n",
       "      <td>4.898979</td>\n",
       "      <td>0.201802</td>\n",
       "      <td>24.0</td>\n",
       "      <td>2.033996</td>\n",
       "      <td>0.624474</td>\n",
       "      <td>24.367385</td>\n",
       "      <td>67.911362</td>\n",
       "      <td>0.793717</td>\n",
       "      <td>955.087932</td>\n",
       "      <td>1.232313</td>\n",
       "      <td>0.240702</td>\n",
       "      <td>3.761465</td>\n",
       "    </tr>\n",
       "    <tr>\n",
       "      <th>5</th>\n",
       "      <td>Приставы соберут отпечатки пальцев российских ...</td>\n",
       "      <td>Приставы снимут отпечатки пальцев у злостных н...</td>\n",
       "      <td>1</td>\n",
       "      <td>2.449490</td>\n",
       "      <td>0.500000</td>\n",
       "      <td>6.0</td>\n",
       "      <td>3.605551</td>\n",
       "      <td>0.435194</td>\n",
       "      <td>13.0</td>\n",
       "      <td>0.905337</td>\n",
       "      <td>0.538458</td>\n",
       "      <td>9.759748</td>\n",
       "      <td>53.680878</td>\n",
       "      <td>0.755837</td>\n",
       "      <td>736.760647</td>\n",
       "      <td>1.006765</td>\n",
       "      <td>0.493212</td>\n",
       "      <td>2.506694</td>\n",
       "    </tr>\n",
       "    <tr>\n",
       "      <th>6</th>\n",
       "      <td>На саратовского дебошира с борта самолета Моск...</td>\n",
       "      <td>Саратовский дебошир отказывается возвращаться ...</td>\n",
       "      <td>-1</td>\n",
       "      <td>4.000000</td>\n",
       "      <td>0.000000</td>\n",
       "      <td>16.0</td>\n",
       "      <td>4.795832</td>\n",
       "      <td>0.080582</td>\n",
       "      <td>23.0</td>\n",
       "      <td>2.141541</td>\n",
       "      <td>0.088635</td>\n",
       "      <td>23.541625</td>\n",
       "      <td>115.997894</td>\n",
       "      <td>0.304224</td>\n",
       "      <td>1610.742023</td>\n",
       "      <td>1.414214</td>\n",
       "      <td>0.000000</td>\n",
       "      <td>5.440805</td>\n",
       "    </tr>\n",
       "    <tr>\n",
       "      <th>7</th>\n",
       "      <td>ЦИК хочет отказаться от электронной системы по...</td>\n",
       "      <td>ЦИК может отказаться от электронных средств по...</td>\n",
       "      <td>0</td>\n",
       "      <td>2.449490</td>\n",
       "      <td>0.625000</td>\n",
       "      <td>6.0</td>\n",
       "      <td>3.605551</td>\n",
       "      <td>0.521749</td>\n",
       "      <td>13.0</td>\n",
       "      <td>0.917058</td>\n",
       "      <td>0.822436</td>\n",
       "      <td>11.203557</td>\n",
       "      <td>43.462032</td>\n",
       "      <td>0.913547</td>\n",
       "      <td>611.457537</td>\n",
       "      <td>0.871304</td>\n",
       "      <td>0.620415</td>\n",
       "      <td>2.141933</td>\n",
       "    </tr>\n",
       "    <tr>\n",
       "      <th>8</th>\n",
       "      <td>Суд Петербурга оставил на потом дело о гибели ...</td>\n",
       "      <td>Лондонский Гайд-парк - это не место для митинг...</td>\n",
       "      <td>-1</td>\n",
       "      <td>4.690416</td>\n",
       "      <td>0.000000</td>\n",
       "      <td>20.0</td>\n",
       "      <td>4.898979</td>\n",
       "      <td>0.077152</td>\n",
       "      <td>24.0</td>\n",
       "      <td>2.508501</td>\n",
       "      <td>0.110205</td>\n",
       "      <td>25.380437</td>\n",
       "      <td>150.463181</td>\n",
       "      <td>0.305421</td>\n",
       "      <td>2084.780885</td>\n",
       "      <td>1.414214</td>\n",
       "      <td>0.000000</td>\n",
       "      <td>5.793233</td>\n",
       "    </tr>\n",
       "    <tr>\n",
       "      <th>9</th>\n",
       "      <td>Страны ОПЕК сократили добычу нефти на 1 млн ба...</td>\n",
       "      <td>Обама продлил полномочия НАСА по сотрудничеств...</td>\n",
       "      <td>-1</td>\n",
       "      <td>4.000000</td>\n",
       "      <td>0.000000</td>\n",
       "      <td>16.0</td>\n",
       "      <td>5.099020</td>\n",
       "      <td>0.072169</td>\n",
       "      <td>26.0</td>\n",
       "      <td>2.006057</td>\n",
       "      <td>0.100294</td>\n",
       "      <td>22.074074</td>\n",
       "      <td>128.294266</td>\n",
       "      <td>0.354124</td>\n",
       "      <td>1842.915286</td>\n",
       "      <td>1.414214</td>\n",
       "      <td>0.000000</td>\n",
       "      <td>5.441300</td>\n",
       "    </tr>\n",
       "  </tbody>\n",
       "</table>\n",
       "</div>"
      ],
      "text/plain": [
       "                                               text1  \\\n",
       "0  Полицейским разрешат стрелять на поражение по ...   \n",
       "1  Право полицейских на проникновение в жилище ре...   \n",
       "2  Президент Египта ввел чрезвычайное положение в...   \n",
       "3  Вернувшихся из Сирии россиян волнует вопрос тр...   \n",
       "4  В Москву из Сирии вернулись 2 самолета МЧС с р...   \n",
       "5  Приставы соберут отпечатки пальцев российских ...   \n",
       "6  На саратовского дебошира с борта самолета Моск...   \n",
       "7  ЦИК хочет отказаться от электронной системы по...   \n",
       "8  Суд Петербурга оставил на потом дело о гибели ...   \n",
       "9  Страны ОПЕК сократили добычу нефти на 1 млн ба...   \n",
       "\n",
       "                                               text2  class         1  \\\n",
       "0  Полиции могут разрешить стрелять по хулиганам ...      0  3.000000   \n",
       "1  Правила внесудебного проникновения полицейских...      0  3.000000   \n",
       "2  Власти Египта угрожают ввести в стране чрезвыч...      0  2.828427   \n",
       "3  Самолеты МЧС вывезут россиян из разрушенной Си...     -1  3.162278   \n",
       "4  Самолеты МЧС вывезут россиян из разрушенной Си...      0  3.162278   \n",
       "5  Приставы снимут отпечатки пальцев у злостных н...      1  2.449490   \n",
       "6  Саратовский дебошир отказывается возвращаться ...     -1  4.000000   \n",
       "7  ЦИК может отказаться от электронных средств по...      0  2.449490   \n",
       "8  Лондонский Гайд-парк - это не место для митинг...     -1  4.690416   \n",
       "9  Обама продлил полномочия НАСА по сотрудничеств...     -1  4.000000   \n",
       "\n",
       "          2     3         4         5     6         7         8          9  \\\n",
       "0  0.400892   9.0  3.741657  0.365148  14.0  1.350238  0.550983  13.301454   \n",
       "1  0.308607   9.0  4.123106  0.261116  17.0  1.022669  0.732213   4.863660   \n",
       "2  0.428571   8.0  4.123106  0.370625  17.0  1.314963  0.334648  13.643393   \n",
       "3  0.377964  10.0  4.358899  0.240192  19.0  1.502144  0.732007  15.234192   \n",
       "4  0.377964  10.0  4.898979  0.201802  24.0  2.033996  0.624474  24.367385   \n",
       "5  0.500000   6.0  3.605551  0.435194  13.0  0.905337  0.538458   9.759748   \n",
       "6  0.000000  16.0  4.795832  0.080582  23.0  2.141541  0.088635  23.541625   \n",
       "7  0.625000   6.0  3.605551  0.521749  13.0  0.917058  0.822436  11.203557   \n",
       "8  0.000000  20.0  4.898979  0.077152  24.0  2.508501  0.110205  25.380437   \n",
       "9  0.000000  16.0  5.099020  0.072169  26.0  2.006057  0.100294  22.074074   \n",
       "\n",
       "           10        11           12        13        14        15  \n",
       "0   71.748291  0.788704   976.753424  1.075894  0.421226  3.178169  \n",
       "1   72.766319  0.601266   975.334097  1.193534  0.287738  3.536441  \n",
       "2   84.052299  0.607760  1123.061437  1.070642  0.426863  3.029923  \n",
       "3   94.067535  0.634141  1321.738400  1.262361  0.203222  3.954934  \n",
       "4   67.911362  0.793717   955.087932  1.232313  0.240702  3.761465  \n",
       "5   53.680878  0.755837   736.760647  1.006765  0.493212  2.506694  \n",
       "6  115.997894  0.304224  1610.742023  1.414214  0.000000  5.440805  \n",
       "7   43.462032  0.913547   611.457537  0.871304  0.620415  2.141933  \n",
       "8  150.463181  0.305421  2084.780885  1.414214  0.000000  5.793233  \n",
       "9  128.294266  0.354124  1842.915286  1.414214  0.000000  5.441300  "
      ]
     },
     "execution_count": 124,
     "metadata": {},
     "output_type": "execute_result"
    }
   ],
   "source": [
    "parphrase_df.head(10)"
   ]
  },
  {
   "cell_type": "code",
   "execution_count": null,
   "metadata": {},
   "outputs": [],
   "source": [
    "# запишу получившийся датафрейм в файл, чтоб всё не пересчитывать, если понадобится потом\n",
    "parphrase_df.to_csv('vectors.csv', index=False, encoding='utf-8')"
   ]
  },
  {
   "cell_type": "markdown",
   "metadata": {},
   "source": [
    "##### составьте из этих расстояний признаки для обучения (матрицу признаков, или список списков признаков)"
   ]
  },
  {
   "cell_type": "code",
   "execution_count": 127,
   "metadata": {
    "collapsed": true
   },
   "outputs": [
    {
     "data": {
      "text/plain": [
       "array([[ 3.        ,  0.40089186,  9.        , ...,  1.0758938 ,\n",
       "         0.42122627,  3.1781688 ],\n",
       "       [ 3.        ,  0.3086067 ,  9.        , ...,  1.19353443,\n",
       "         0.28773779,  3.53644069],\n",
       "       [ 2.82842712,  0.42857143,  8.        , ...,  1.07064151,\n",
       "         0.42686337,  3.02992325],\n",
       "       ...,\n",
       "       [ 3.16227766,  0.16666667, 10.        , ...,  1.34054463,\n",
       "         0.10147004,  4.21629161],\n",
       "       [ 3.60555128,  0.13608276, 13.        , ...,  1.35137867,\n",
       "         0.08688785,  4.85723634],\n",
       "       [ 2.64575131,  0.36514837,  7.        , ...,  1.26229655,\n",
       "         0.2033037 ,  3.44741773]])"
      ]
     },
     "execution_count": 127,
     "metadata": {},
     "output_type": "execute_result"
    }
   ],
   "source": [
    "# вытаскиваю значения из нужных столбцов в виде аррея и складываю их в переменную а\n",
    "a = parphrase_df.iloc[:, 3:].copy()\n",
    "a = a.values\n",
    "a\n",
    "\n"
   ]
  },
  {
   "cell_type": "code",
   "execution_count": 166,
   "metadata": {},
   "outputs": [
    {
     "data": {
      "text/plain": [
       "numpy.ndarray"
      ]
     },
     "execution_count": 166,
     "metadata": {},
     "output_type": "execute_result"
    }
   ],
   "source": [
    "type(a)"
   ]
  },
  {
   "cell_type": "code",
   "execution_count": 128,
   "metadata": {},
   "outputs": [
    {
     "data": {
      "text/plain": [
       "(7227, 15)"
      ]
     },
     "execution_count": 128,
     "metadata": {},
     "output_type": "execute_result"
    }
   ],
   "source": [
    "# 15 столбцов, строк столько же, сколько в датафрейме\n",
    "a.shape"
   ]
  },
  {
   "cell_type": "code",
   "execution_count": 53,
   "metadata": {},
   "outputs": [
    {
     "data": {
      "text/plain": [
       "array([3.00000000e+00, 4.00891863e-01, 9.00000000e+00, 3.74165739e+00,\n",
       "       3.65148372e-01, 1.40000000e+01, 1.35023828e+00, 5.50982596e-01,\n",
       "       1.33014542e+01, 7.17482910e+01, 7.88703918e-01, 9.76753424e+02])"
      ]
     },
     "execution_count": 53,
     "metadata": {},
     "output_type": "execute_result"
    }
   ],
   "source": [
    "a[0]"
   ]
  },
  {
   "cell_type": "markdown",
   "metadata": {},
   "source": [
    "##### на этих признаках обучите любой классификатор на парафраз (предсказывать столбец `class`)\n"
   ]
  },
  {
   "cell_type": "code",
   "execution_count": 180,
   "metadata": {},
   "outputs": [],
   "source": [
    "# эта штука будет отлавливать предупреждения\n",
    "import warnings\n",
    "warnings.filterwarnings('ignore')"
   ]
  },
  {
   "cell_type": "code",
   "execution_count": 168,
   "metadata": {},
   "outputs": [],
   "source": [
    "X_train, X_test, y_train, y_test = train_test_split(a, parphrase_df['class'])"
   ]
  },
  {
   "cell_type": "code",
   "execution_count": 169,
   "metadata": {},
   "outputs": [
    {
     "name": "stdout",
     "output_type": "stream",
     "text": [
      "             precision    recall  f1-score   support\n",
      "\n",
      "         -1       0.68      0.72      0.70       615\n",
      "          0       0.55      0.69      0.61       761\n",
      "          1       0.61      0.28      0.38       431\n",
      "\n",
      "avg / total       0.61      0.60      0.59      1807\n",
      "\n"
     ]
    }
   ],
   "source": [
    "lr = LogisticRegression(random_state=50)\n",
    "clf = lr.fit(X_train, y_train)\n",
    "print(classification_report(y_test, clf.predict(X_test)))\n"
   ]
  },
  {
   "cell_type": "markdown",
   "metadata": {},
   "source": [
    "У логистической регрессии получился хороший результат. Попробую другой классификатор"
   ]
  },
  {
   "cell_type": "code",
   "execution_count": 181,
   "metadata": {},
   "outputs": [
    {
     "name": "stdout",
     "output_type": "stream",
     "text": [
      "             precision    recall  f1-score   support\n",
      "\n",
      "         -1       0.00      0.00      0.00       615\n",
      "          0       0.42      1.00      0.59       761\n",
      "          1       1.00      0.00      0.01       431\n",
      "\n",
      "avg / total       0.42      0.42      0.25      1807\n",
      "\n"
     ]
    }
   ],
   "source": [
    "sgd = SGDClassifier()\n",
    "sgd_m = sgd.fit(X_train, y_train)\n",
    "print(classification_report(y_test, sgd_m.predict(X_test)))"
   ]
  },
  {
   "cell_type": "markdown",
   "metadata": {},
   "source": [
    "У СГД классификатора плохой результат, попробую еще решающие деревья"
   ]
  },
  {
   "cell_type": "code",
   "execution_count": 182,
   "metadata": {},
   "outputs": [
    {
     "name": "stdout",
     "output_type": "stream",
     "text": [
      "             precision    recall  f1-score   support\n",
      "\n",
      "         -1       0.63      0.66      0.64       615\n",
      "          0       0.49      0.47      0.48       761\n",
      "          1       0.36      0.35      0.36       431\n",
      "\n",
      "avg / total       0.50      0.51      0.51      1807\n",
      "\n"
     ]
    }
   ],
   "source": [
    "tree = DecisionTreeClassifier()\n",
    "tree_m = tree.fit(X_train, y_train)\n",
    "print(classification_report(y_test, tree_m.predict(X_test)))"
   ]
  },
  {
   "cell_type": "markdown",
   "metadata": {},
   "source": [
    "Результат хуже, чем у регрессии, так что дальше буду работать с регрессией"
   ]
  },
  {
   "cell_type": "markdown",
   "metadata": {},
   "source": [
    "Я хочу узнать, какие из 15 способов подсчета расстояния оказались наиболее полезными, т.е. какие из них дают лучшие результаты. \n",
    "Проверю это простым перебором"
   ]
  },
  {
   "cell_type": "code",
   "execution_count": 183,
   "metadata": {
    "collapsed": true
   },
   "outputs": [
    {
     "data": {
      "text/plain": [
       "['text1',\n",
       " 'text2',\n",
       " 'class',\n",
       " '1',\n",
       " '2',\n",
       " '3',\n",
       " '4',\n",
       " '5',\n",
       " '6',\n",
       " '7',\n",
       " '8',\n",
       " '9',\n",
       " '10',\n",
       " '11',\n",
       " '12',\n",
       " '13',\n",
       " '14',\n",
       " '15']"
      ]
     },
     "execution_count": 183,
     "metadata": {},
     "output_type": "execute_result"
    }
   ],
   "source": [
    "# Вытащу названия колонок\n",
    "parphrase_df.columns.tolist()"
   ]
  },
  {
   "cell_type": "code",
   "execution_count": 184,
   "metadata": {},
   "outputs": [],
   "source": [
    "# присвою нужные имена переменной \n",
    "names = ['1',\n",
    " '2',\n",
    " '3',\n",
    " '4',\n",
    " '5',\n",
    " '6',\n",
    " '7',\n",
    " '8',\n",
    " '9',\n",
    " '10',\n",
    " '11',\n",
    " '12',\n",
    " '13',\n",
    " '14',\n",
    " '15']"
   ]
  },
  {
   "cell_type": "code",
   "execution_count": 207,
   "metadata": {},
   "outputs": [],
   "source": [
    "# делаю список всех возможных комбинаций столбцов, количество столбцов меняю для каждой проверки\n",
    "combinations = list(itertools.combinations(names, 3))\n"
   ]
  },
  {
   "cell_type": "markdown",
   "metadata": {},
   "source": [
    "Буду проверять все комбинации столбцов, насколько хорошие результаты они дают"
   ]
  },
  {
   "cell_type": "code",
   "execution_count": 189,
   "metadata": {},
   "outputs": [
    {
     "name": "stdout",
     "output_type": "stream",
     "text": [
      "('15',)\n"
     ]
    }
   ],
   "source": [
    "# начну с проверки, будут ли хорошие результаты, если в классификатор засунуть только один столбец\n",
    "for comb in combinations:\n",
    "    b = parphrase_df.filter(items = comb).values\n",
    "    X_train, X_test, y_train, y_test = train_test_split(b, parphrase_df['class'])\n",
    "    lr = LogisticRegression(random_state=50)\n",
    "    clf = lr.fit(X_train, y_train)\n",
    "    if precision_recall_fscore_support(y_test, clf.predict(X_test), average='weighted')[0] > 0.60:\n",
    "        print(comb)"
   ]
  },
  {
   "cell_type": "code",
   "execution_count": 200,
   "metadata": {},
   "outputs": [
    {
     "name": "stdout",
     "output_type": "stream",
     "text": [
      "             precision    recall  f1-score   support\n",
      "\n",
      "         -1       0.66      0.74      0.69       649\n",
      "          0       0.52      0.66      0.58       729\n",
      "          1       0.66      0.23      0.34       429\n",
      "\n",
      "avg / total       0.60      0.59      0.56      1807\n",
      "\n"
     ]
    }
   ],
   "source": [
    "b = parphrase_df.filter(items = ['15']).values\n",
    "X_train, X_test, y_train, y_test = train_test_split(b, parphrase_df['class'])\n",
    "lr = LogisticRegression(random_state=50)\n",
    "clf = lr.fit(X_train, y_train)\n",
    "print(classification_report(y_test, clf.predict(X_test)))"
   ]
  },
  {
   "cell_type": "markdown",
   "metadata": {},
   "source": [
    "Столбец № 15, т.е. тф-дф векторайзер + манхэттенское расстояние само по себе дают хороший результат."
   ]
  },
  {
   "cell_type": "code",
   "execution_count": 202,
   "metadata": {},
   "outputs": [
    {
     "name": "stdout",
     "output_type": "stream",
     "text": [
      "('10', '15') (0.6319712049144347, 0.6081903707802988, 0.5935968125886211, None)\n"
     ]
    }
   ],
   "source": [
    "# с двумя столбцами\n",
    "for comb in combinations:\n",
    "    b = parphrase_df.filter(items = comb).values\n",
    "    X_train, X_test, y_train, y_test = train_test_split(b, parphrase_df['class'])\n",
    "    lr = LogisticRegression(random_state=50)\n",
    "    clf = lr.fit(X_train, y_train)\n",
    "    if precision_recall_fscore_support(y_test, clf.predict(X_test), average='weighted')[0] > 0.62:\n",
    "        print(comb, precision_recall_fscore_support(y_test, clf.predict(X_test), average='weighted') )\n",
    "        "
   ]
  },
  {
   "cell_type": "code",
   "execution_count": 206,
   "metadata": {},
   "outputs": [
    {
     "name": "stdout",
     "output_type": "stream",
     "text": [
      "             precision    recall  f1-score   support\n",
      "\n",
      "         -1       0.64      0.72      0.68       644\n",
      "          0       0.54      0.64      0.59       757\n",
      "          1       0.65      0.30      0.41       406\n",
      "\n",
      "avg / total       0.60      0.59      0.58      1807\n",
      "\n"
     ]
    }
   ],
   "source": [
    "b = parphrase_df.filter(items = ['10', '15']).values\n",
    "X_train, X_test, y_train, y_test = train_test_split(b, parphrase_df['class'])\n",
    "lr = LogisticRegression(random_state=50)\n",
    "clf = lr.fit(X_train, y_train)\n",
    "print(classification_report(y_test, clf.predict(X_test)))"
   ]
  },
  {
   "cell_type": "markdown",
   "metadata": {},
   "source": [
    "Столбец 10 - это евклидово расстояние на эмбеддингах из тайги. То есть сочетание (тф-дф векторайзер + манхэттенское расстояние) и (евклидово расстояние на эмбеддингах из тайги) Тоже даёт хороший результат. "
   ]
  },
  {
   "cell_type": "code",
   "execution_count": 209,
   "metadata": {},
   "outputs": [
    {
     "name": "stdout",
     "output_type": "stream",
     "text": [
      "('3', '7', '10') (0.6330425601025835, 0.5655783065855008, 0.5366113799215355, None)\n",
      "('3', '10', '15') (0.6363243001120419, 0.6131710016602103, 0.5950793640005654, None)\n"
     ]
    }
   ],
   "source": [
    "# с тремя столбцами\n",
    "for comb in combinations:\n",
    "    b = parphrase_df.filter(items = comb).values\n",
    "    X_train, X_test, y_train, y_test = train_test_split(b, parphrase_df['class'])\n",
    "    lr = LogisticRegression(random_state=50)\n",
    "    clf = lr.fit(X_train, y_train)\n",
    "    if precision_recall_fscore_support(y_test, clf.predict(X_test), average='weighted')[0] > 0.63:\n",
    "        print(comb, precision_recall_fscore_support(y_test, clf.predict(X_test), average='weighted') )"
   ]
  },
  {
   "cell_type": "markdown",
   "metadata": {},
   "source": [
    "Опять среди хороших результатов столбцы \"10\" и \"15\", и еще добавился столбец \"3\" - это (каунт векторайзер со стандартными параметрами) + (манхэттенское расстояние)"
   ]
  },
  {
   "cell_type": "code",
   "execution_count": 212,
   "metadata": {},
   "outputs": [
    {
     "name": "stdout",
     "output_type": "stream",
     "text": [
      "             precision    recall  f1-score   support\n",
      "\n",
      "         -1       0.64      0.77      0.70       628\n",
      "          0       0.58      0.61      0.59       789\n",
      "          1       0.61      0.35      0.44       390\n",
      "\n",
      "avg / total       0.61      0.61      0.60      1807\n",
      "\n"
     ]
    }
   ],
   "source": [
    "b = parphrase_df.filter(items = ['3', '10', '15']).values\n",
    "X_train, X_test, y_train, y_test = train_test_split(b, parphrase_df['class'])\n",
    "lr = LogisticRegression(random_state=50)\n",
    "clf = lr.fit(X_train, y_train)\n",
    "print(classification_report(y_test, clf.predict(X_test)))"
   ]
  },
  {
   "cell_type": "markdown",
   "metadata": {},
   "source": [
    "Если честно, я проверяла перебором остальные сочетания столбцов тоже, но не вижу смысла сюда это включать, результаты не улучшаются, всё крутится вокруг 60%"
   ]
  },
  {
   "cell_type": "markdown",
   "metadata": {},
   "source": [
    "Сейчас я хочу попробовать функции нормализации, которые есть в ск-лерне. Я прочла о них вот здесь \n",
    "\n",
    "https://stackoverflow.com/questions/30918781/right-function-for-normalizing-input-of-sklearn-svm"
   ]
  },
  {
   "cell_type": "code",
   "execution_count": 213,
   "metadata": {},
   "outputs": [
    {
     "data": {
      "text/plain": [
       "array([3.06236228e-03, 4.09225373e-04, 9.18708685e-03, 3.81943682e-03,\n",
       "       3.72738867e-04, 1.42910240e-02, 1.37830626e-03, 5.62436106e-04,\n",
       "       1.35779572e-02, 7.32397534e-02, 8.05099044e-04, 9.97057616e-01,\n",
       "       1.09825886e-03, 4.29982480e-04, 3.24423476e-03])"
      ]
     },
     "execution_count": 213,
     "metadata": {},
     "output_type": "execute_result"
    }
   ],
   "source": [
    "normalized_a = normalize(a)\n",
    "normalized_a[0]"
   ]
  },
  {
   "cell_type": "code",
   "execution_count": 214,
   "metadata": {},
   "outputs": [],
   "source": [
    "X_train_n, X_test_n, y_train_n, y_test_n = train_test_split(normalized_a, parphrase_df['class'])"
   ]
  },
  {
   "cell_type": "code",
   "execution_count": 215,
   "metadata": {},
   "outputs": [
    {
     "name": "stdout",
     "output_type": "stream",
     "text": [
      "             precision    recall  f1-score   support\n",
      "\n",
      "         -1       0.00      0.00      0.00       648\n",
      "          0       0.41      1.00      0.58       736\n",
      "          1       1.00      0.02      0.04       423\n",
      "\n",
      "avg / total       0.40      0.41      0.25      1807\n",
      "\n"
     ]
    }
   ],
   "source": [
    "lr = LogisticRegression(random_state=50)\n",
    "clf = lr.fit(X_train_n, y_train_n)\n",
    "print(classification_report(y_test_n, clf.predict(X_test_n)))\n"
   ]
  },
  {
   "cell_type": "markdown",
   "metadata": {},
   "source": [
    "Результат сильно хуже. Попробую вторую функцию"
   ]
  },
  {
   "cell_type": "code",
   "execution_count": 219,
   "metadata": {},
   "outputs": [
    {
     "data": {
      "text/plain": [
       "array([ 0.29608664, -0.09149115,  0.179114  , -0.31848285,  0.06604557,\n",
       "       -0.4212638 ,  0.00688847, -0.0911013 , -0.0564469 , -0.21314554,\n",
       "        0.38228875, -0.24501991,  0.08013052,  0.0559334 ,  0.0419505 ])"
      ]
     },
     "execution_count": 219,
     "metadata": {},
     "output_type": "execute_result"
    }
   ],
   "source": [
    "standardized_a = scale(a)\n",
    "standardized_a[0]"
   ]
  },
  {
   "cell_type": "code",
   "execution_count": 217,
   "metadata": {},
   "outputs": [],
   "source": [
    "X_train_s, X_test_s, y_train_s, y_test_s = train_test_split(standardized_a, parphrase_df['class'])"
   ]
  },
  {
   "cell_type": "code",
   "execution_count": 218,
   "metadata": {},
   "outputs": [
    {
     "name": "stdout",
     "output_type": "stream",
     "text": [
      "             precision    recall  f1-score   support\n",
      "\n",
      "         -1       0.72      0.69      0.70       672\n",
      "          0       0.51      0.70      0.59       716\n",
      "          1       0.59      0.27      0.37       419\n",
      "\n",
      "avg / total       0.61      0.59      0.58      1807\n",
      "\n"
     ]
    }
   ],
   "source": [
    "lr = LogisticRegression(random_state=50)\n",
    "clf = lr.fit(X_train_s, y_train_s)\n",
    "print(classification_report(y_test_s, clf.predict(X_test_s)))\n"
   ]
  },
  {
   "cell_type": "markdown",
   "metadata": {},
   "source": [
    "Результат такой же, как и с обычными векторами, нестандартизированными. "
   ]
  },
  {
   "cell_type": "code",
   "execution_count": null,
   "metadata": {},
   "outputs": [],
   "source": []
  }
 ],
 "metadata": {
  "kernelspec": {
   "display_name": "Python 3",
   "language": "python",
   "name": "python3"
  },
  "language_info": {
   "codemirror_mode": {
    "name": "ipython",
    "version": 3
   },
   "file_extension": ".py",
   "mimetype": "text/x-python",
   "name": "python",
   "nbconvert_exporter": "python",
   "pygments_lexer": "ipython3",
   "version": "3.6.8"
  }
 },
 "nbformat": 4,
 "nbformat_minor": 2
}
