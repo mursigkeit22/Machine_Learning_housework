{
 "cells": [
  {
   "cell_type": "markdown",
   "metadata": {
    "colab_type": "text",
    "id": "FxCMCvboNClg"
   },
   "source": [
    "# Большая домашка 1: классификация отзывов\n",
    "\n",
    "## Данные\n",
    "\n",
    "Скачиваются по [ссылке](https://drive.google.com/open?id=1gJEpwM3zdV5xe9nRU0VwQmGTiOTQdp10). Это отзывы пользователей на фильмы с КиноПоиска."
   ]
  },
  {
   "cell_type": "code",
   "execution_count": 11,
   "metadata": {
    "colab": {
     "base_uri": "https://localhost:8080/",
     "height": 55
    },
    "colab_type": "code",
    "id": "Wq_ot5rjNCli",
    "outputId": "2f8793aa-b293-4a37-9339-9f362cb25e07"
   },
   "outputs": [
    {
     "name": "stdout",
     "output_type": "stream",
     "text": [
      "Drive already mounted at /content/gdrive; to attempt to forcibly remount, call drive.mount(\"/content/gdrive\", force_remount=True).\n"
     ]
    }
   ],
   "source": [
    "import pandas as pd\n",
    "from google.colab import drive \n",
    "drive.mount('/content/gdrive')"
   ]
  },
  {
   "cell_type": "code",
   "execution_count": 0,
   "metadata": {
    "colab": {},
    "colab_type": "code",
    "id": "VxmFXAZNNCln"
   },
   "outputs": [],
   "source": [
    "df = pd.read_csv('reviews.csv')"
   ]
  },
  {
   "cell_type": "code",
   "execution_count": 13,
   "metadata": {
    "colab": {
     "base_uri": "https://localhost:8080/",
     "height": 202
    },
    "colab_type": "code",
    "id": "Ma_z70HdNClq",
    "outputId": "539285dd-c425-4e5e-d568-046fceec8873"
   },
   "outputs": [
    {
     "data": {
      "text/html": [
       "<div>\n",
       "<style scoped>\n",
       "    .dataframe tbody tr th:only-of-type {\n",
       "        vertical-align: middle;\n",
       "    }\n",
       "\n",
       "    .dataframe tbody tr th {\n",
       "        vertical-align: top;\n",
       "    }\n",
       "\n",
       "    .dataframe thead th {\n",
       "        text-align: right;\n",
       "    }\n",
       "</style>\n",
       "<table border=\"1\" class=\"dataframe\">\n",
       "  <thead>\n",
       "    <tr style=\"text-align: right;\">\n",
       "      <th></th>\n",
       "      <th>label</th>\n",
       "      <th>text</th>\n",
       "    </tr>\n",
       "  </thead>\n",
       "  <tbody>\n",
       "    <tr>\n",
       "      <th>0</th>\n",
       "      <td>1</td>\n",
       "      <td>Эпиграф Добро которое ты делаешь от сердца ты ...</td>\n",
       "    </tr>\n",
       "    <tr>\n",
       "      <th>1</th>\n",
       "      <td>1</td>\n",
       "      <td>Теперь это один из моих любимых фильмов в жанр...</td>\n",
       "    </tr>\n",
       "    <tr>\n",
       "      <th>2</th>\n",
       "      <td>1</td>\n",
       "      <td>Что скрыто в фильме Лучше не бывает Одна шикар...</td>\n",
       "    </tr>\n",
       "    <tr>\n",
       "      <th>3</th>\n",
       "      <td>1</td>\n",
       "      <td>Перед нами очень милое и доброе кино которое л...</td>\n",
       "    </tr>\n",
       "    <tr>\n",
       "      <th>4</th>\n",
       "      <td>1</td>\n",
       "      <td>Завязка Мелвин Удал популярный писатель Нет не...</td>\n",
       "    </tr>\n",
       "  </tbody>\n",
       "</table>\n",
       "</div>"
      ],
      "text/plain": [
       "   label                                               text\n",
       "0      1  Эпиграф Добро которое ты делаешь от сердца ты ...\n",
       "1      1  Теперь это один из моих любимых фильмов в жанр...\n",
       "2      1  Что скрыто в фильме Лучше не бывает Одна шикар...\n",
       "3      1  Перед нами очень милое и доброе кино которое л...\n",
       "4      1  Завязка Мелвин Удал популярный писатель Нет не..."
      ]
     },
     "execution_count": 13,
     "metadata": {
      "tags": []
     },
     "output_type": "execute_result"
    }
   ],
   "source": [
    "df.head()"
   ]
  },
  {
   "cell_type": "code",
   "execution_count": 0,
   "metadata": {
    "colab": {},
    "colab_type": "code",
    "id": "5YJbczYdNClw",
    "outputId": "ae231c9a-a8af-4c26-b39e-c726e46a82df"
   },
   "outputs": [
    {
     "data": {
      "text/plain": [
       "{-1, 0, 1}"
      ]
     },
     "execution_count": 6,
     "metadata": {
      "tags": []
     },
     "output_type": "execute_result"
    }
   ],
   "source": [
    "set(df.label)"
   ]
  },
  {
   "cell_type": "markdown",
   "metadata": {
    "colab_type": "text",
    "id": "kHiQdNtUNCl0"
   },
   "source": [
    "В колонке `label` три класса: положительный (1), нейтральный (0) и отрицательный (-1)."
   ]
  },
  {
   "cell_type": "markdown",
   "metadata": {
    "colab_type": "text",
    "id": "_F7lpCrANCmI"
   },
   "source": [
    "## Задание\n",
    "\n",
    "Побейте baseline выше как минимум тремя способами.\n",
    "\n",
    "\n",
    "**Обязательно**:\n",
    "* попробовать разный препроцессинг (2 балла)\n",
    "* попробовать разные классификаторы (2 балла)\n",
    "* поподбирать гиперпараметры классификаторов, можно с использованием GreedSearch (2 балла)\n",
    "* попробуйте объяснить полученные результаты (2 балла)\n",
    "* визуализируйте веса признаков для лучшей модели (если лучшая модель не выдаёт коэффициенты признаков, возьмите логистическую регрессию); какие признаки оказались самыми значимыми? (2 балла)\n",
    "\n",
    "Если вы перебрали уже много разных способов и выполнили все обязательные критерии, но побить baseline тремя способами так и не получилось, не беспокойтесь. Главное -- полнота попыток :)\n",
    "\n",
    "Good luck and have fun! ;)"
   ]
  },
  {
   "cell_type": "markdown",
   "metadata": {
    "colab_type": "text",
    "id": "3ggXI_oaNZGg"
   },
   "source": [
    "1. Посмотрим на данные: сколько элементов к какому классу относятся\n"
   ]
  },
  {
   "cell_type": "code",
   "execution_count": 4,
   "metadata": {
    "colab": {
     "base_uri": "https://localhost:8080/",
     "height": 69
    },
    "colab_type": "code",
    "id": "6my83m1iNaw6",
    "outputId": "0e4e362b-1925-4b8d-976b-3437eddc6d8c"
   },
   "outputs": [
    {
     "name": "stdout",
     "output_type": "stream",
     "text": [
      "0 5645\n",
      "1 36480\n",
      "-1 4376\n"
     ]
    }
   ],
   "source": [
    "for el in set(df.label):\n",
    "    print(el, len(df.label.loc[df.label == el]))"
   ]
  },
  {
   "cell_type": "markdown",
   "metadata": {
    "colab_type": "text",
    "id": "mCydyMnQOhvY"
   },
   "source": [
    "2. Сделаем импорт всего, что нам понадобится\n"
   ]
  },
  {
   "cell_type": "code",
   "execution_count": 0,
   "metadata": {
    "colab": {},
    "colab_type": "code",
    "id": "5h5pK5FoNcsG"
   },
   "outputs": [],
   "source": [
    "from sklearn.naive_bayes import MultinomialNB\n",
    "from sklearn.model_selection import train_test_split\n",
    "from sklearn.feature_extraction.text import CountVectorizer\n",
    "from sklearn.feature_extraction.text import TfidfVectorizer\n",
    "from nltk.tokenize import word_tokenize\n",
    "from sklearn.metrics import classification_report\n",
    "from collections import Counter\n",
    "from sklearn.linear_model import LogisticRegression\n",
    "from sklearn.linear_model import SGDClassifier\n",
    "from sklearn.metrics import classification_report\n",
    "from sklearn.model_selection import GridSearchCV\n",
    "from sklearn import preprocessing\n",
    "import warnings\n",
    "warnings.filterwarnings('ignore')\n"
   ]
  },
  {
   "cell_type": "code",
   "execution_count": 0,
   "metadata": {
    "colab": {},
    "colab_type": "code",
    "id": "Jr0oRPEL2qtO"
   },
   "outputs": [],
   "source": [
    "from sklearn.metrics import confusion_matrix\n",
    "import matplotlib.pyplot as plt\n",
    "import seaborn as sns\n",
    "\n",
    "\n",
    "\n",
    "%matplotlib inline"
   ]
  },
  {
   "cell_type": "markdown",
   "metadata": {
    "colab_type": "text",
    "id": "WP-WN4yDOq-V"
   },
   "source": [
    "Начнем с установки Baseline c помощью наивного Байеса и CountVectorizer"
   ]
  },
  {
   "cell_type": "markdown",
   "metadata": {
    "colab_type": "text",
    "id": "iUyutrptO2HD"
   },
   "source": [
    "## Baseline\n"
   ]
  },
  {
   "cell_type": "code",
   "execution_count": 0,
   "metadata": {
    "colab": {},
    "colab_type": "code",
    "id": "hUIioCq_NdXR"
   },
   "outputs": [],
   "source": [
    "X_train, X_test, y_train, y_test = train_test_split(df.text, df.label)\n",
    "# делим данные на кусочки для обучения и тестирования\n"
   ]
  },
  {
   "cell_type": "code",
   "execution_count": 11,
   "metadata": {
    "colab": {
     "base_uri": "https://localhost:8080/",
     "height": 191
    },
    "colab_type": "code",
    "id": "-xK2Rw0YNCmJ",
    "outputId": "40845291-e0f9-4515-d823-aae12b128135"
   },
   "outputs": [
    {
     "name": "stdout",
     "output_type": "stream",
     "text": [
      "              precision    recall  f1-score   support\n",
      "\n",
      "          -1       0.78      0.21      0.33      1109\n",
      "           0       0.42      0.06      0.10      1408\n",
      "           1       0.81      0.99      0.89      9109\n",
      "\n",
      "   micro avg       0.81      0.81      0.81     11626\n",
      "   macro avg       0.67      0.42      0.44     11626\n",
      "weighted avg       0.76      0.81      0.74     11626\n",
      "\n"
     ]
    }
   ],
   "source": [
    "vec = CountVectorizer() #берем векторайзер\n",
    "bow = vec.fit_transform(X_train) #делаем матрицу из признаков на обучающем куске\n",
    "nb = MultinomialNB() #берем модель с наивным байесом\n",
    "nb.fit(bow, y_train) #тренируем модель на матрице из обучающего куска\n",
    "test_bow = vec.transform(X_test) # сделали матрицу для тестового куска\n",
    "print(classification_report(y_test, nb.predict(test_bow)))\n",
    "\n"
   ]
  },
  {
   "cell_type": "markdown",
   "metadata": {
    "colab_type": "text",
    "id": "M_Mx5AB3Ul--"
   },
   "source": [
    "Вот этот результат нужно побить тремя способами. "
   ]
  },
  {
   "cell_type": "markdown",
   "metadata": {
    "colab_type": "text",
    "id": "aqezRL42V9vr"
   },
   "source": [
    "Из любопытства посмотрим на векторайзер:"
   ]
  },
  {
   "cell_type": "code",
   "execution_count": 28,
   "metadata": {
    "colab": {
     "base_uri": "https://localhost:8080/",
     "height": 191
    },
    "colab_type": "code",
    "id": "9pyVGbV_P0jg",
    "outputId": "282c5afc-b9ac-43b2-9b65-d54ded85d299"
   },
   "outputs": [
    {
     "data": {
      "text/plain": [
       "['аа',\n",
       " 'ааа',\n",
       " 'аааа',\n",
       " 'аааай',\n",
       " 'аааарон',\n",
       " 'аааж',\n",
       " 'аак',\n",
       " 'аалана',\n",
       " 'аамир',\n",
       " 'аамира']"
      ]
     },
     "execution_count": 28,
     "metadata": {
      "tags": []
     },
     "output_type": "execute_result"
    }
   ],
   "source": [
    "# все токены, которые векторайзер рассматривал\n",
    "vec.get_feature_names()[:10]"
   ]
  },
  {
   "cell_type": "code",
   "execution_count": 27,
   "metadata": {
    "colab": {
     "base_uri": "https://localhost:8080/",
     "height": 191
    },
    "colab_type": "code",
    "id": "ES6WXDDnWP0i",
    "outputId": "35d60b42-f322-42ed-907a-90634c3e9c77"
   },
   "outputs": [
    {
     "data": {
      "text/plain": [
       "[('фильм', 304992),\n",
       " ('взвод', 27653),\n",
       " ('не', 144173),\n",
       " ('является', 326161),\n",
       " ('ни', 156275),\n",
       " ('обвинением', 159319),\n",
       " ('исповедью', 93511),\n",
       " ('стремление', 276805),\n",
       " ('выяснить', 45001),\n",
       " ('кто', 112892)]"
      ]
     },
     "execution_count": 27,
     "metadata": {
      "tags": []
     },
     "output_type": "execute_result"
    }
   ],
   "source": [
    "# я так понимаю, это токен и его индекс\n",
    "list(vec.vocabulary_.items())[:10]"
   ]
  },
  {
   "cell_type": "markdown",
   "metadata": {
    "colab_type": "text",
    "id": "G7zXR7e42Db3"
   },
   "source": [
    "и сделаем матрицу для наглядности:"
   ]
  },
  {
   "cell_type": "code",
   "execution_count": 31,
   "metadata": {
    "colab": {
     "base_uri": "https://localhost:8080/",
     "height": 69
    },
    "colab_type": "code",
    "id": "M9WvEK0c2IEW",
    "outputId": "acf17d6d-f40e-4c88-a646-5c3c4a39fc37"
   },
   "outputs": [
    {
     "data": {
      "text/plain": [
       "array([[ 233,   73,  803],\n",
       "       [  46,   79, 1283],\n",
       "       [  18,   36, 9055]])"
      ]
     },
     "execution_count": 31,
     "metadata": {
      "tags": []
     },
     "output_type": "execute_result"
    }
   ],
   "source": [
    "confusion_matrix(y_test, nb.predict(test_bow))"
   ]
  },
  {
   "cell_type": "code",
   "execution_count": 34,
   "metadata": {
    "colab": {
     "base_uri": "https://localhost:8080/",
     "height": 35
    },
    "colab_type": "code",
    "id": "giBXZ-qr3Xkq",
    "outputId": "1ed93e7c-abb3-4cb5-e286-5caa39e01bdc"
   },
   "outputs": [
    {
     "data": {
      "text/plain": [
       "array([-1,  0,  1])"
      ]
     },
     "execution_count": 34,
     "metadata": {
      "tags": []
     },
     "output_type": "execute_result"
    }
   ],
   "source": [
    "nb.classes_"
   ]
  },
  {
   "cell_type": "code",
   "execution_count": 35,
   "metadata": {
    "colab": {
     "base_uri": "https://localhost:8080/",
     "height": 281
    },
    "colab_type": "code",
    "id": "4HJouQ-C29VF",
    "outputId": "95378aa4-4f81-4f6c-abf8-c41fe2c1b0e1"
   },
   "outputs": [
    {
     "data": {
      "image/png": "[encoded data removed]",
      "text/plain": [
       "<Figure size 432x288 with 1 Axes>"
      ]
     },
     "metadata": {
      "tags": []
     },
     "output_type": "display_data"
    }
   ],
   "source": [
    "categories = ['negative', 'neutral', 'positive']\n",
    "sns.heatmap(data=confusion_matrix(y_test, nb.predict(test_bow)),\n",
    "            annot=True, fmt=\"d\", cbar=False, xticklabels=categories, yticklabels=categories)\n",
    "plt.title(\"Confusion matrix\")\n",
    "plt.show()"
   ]
  },
  {
   "cell_type": "markdown",
   "metadata": {
    "colab_type": "text",
    "id": "qMIas_lf4QLK"
   },
   "source": [
    "По горизонтали - как на самом деле, по вертикали - предсказанные. То есть нейтральные отзывы наш классификатор предсказывает очень плохо. Всего нейтральных отзывов 46+79+1283 в тестовой выборке, и правильно предсказанных нейтральных всего 79, большая часть неверно угадана как положительные отзывы. Положительные отзывы угаданы лучше всего, просто потому, что их больше. "
   ]
  },
  {
   "cell_type": "markdown",
   "metadata": {
    "colab_type": "text",
    "id": "b_ArkvJFWPAN"
   },
   "source": [
    "Попробуем побить бейзлайн, начнем с tf-idf Vectorizer\n",
    "## Tf-idf Vectorizer"
   ]
  },
  {
   "cell_type": "code",
   "execution_count": 15,
   "metadata": {
    "colab": {
     "base_uri": "https://localhost:8080/",
     "height": 191
    },
    "colab_type": "code",
    "id": "ZgXC4NeKW0kY",
    "outputId": "3187ea65-e560-42aa-dad7-b458a10e535e"
   },
   "outputs": [
    {
     "name": "stdout",
     "output_type": "stream",
     "text": [
      "              precision    recall  f1-score   support\n",
      "\n",
      "          -1       0.00      0.00      0.00      1109\n",
      "           0       0.00      0.00      0.00      1408\n",
      "           1       0.78      1.00      0.88      9109\n",
      "\n",
      "   micro avg       0.78      0.78      0.78     11626\n",
      "   macro avg       0.26      0.33      0.29     11626\n",
      "weighted avg       0.61      0.78      0.69     11626\n",
      "\n"
     ]
    }
   ],
   "source": [
    "vec_Tf = TfidfVectorizer()\n",
    "bow_Tf = vec_Tf.fit_transform(X_train) \n",
    "clf_Tf = MultinomialNB()\n",
    "clf_Tf.fit(bow_Tf, y_train)\n",
    "test_bow_Tf = vec_Tf.transform(X_test)\n",
    "pred_Tf = clf_Tf.predict(test_bow_Tf)\n",
    "print(classification_report(y_test, pred_Tf))\n",
    "\n",
    "\n"
   ]
  },
  {
   "cell_type": "markdown",
   "metadata": {
    "colab_type": "text",
    "id": "vUZYftdvZD7t"
   },
   "source": [
    "Результаты нулевые, где классы \"0\" и \"-1\". Возможно, значимые слова из обучающей выборки не встретились в тестовой выборке, и класс \"1\" был проставлен как самый часто встречающийся. Теперь займемся препроцессингом."
   ]
  },
  {
   "cell_type": "markdown",
   "metadata": {
    "colab_type": "text",
    "id": "KwrR9stuaqOB"
   },
   "source": [
    "## Препроцессинг: word_tokenize и PyMorphy:"
   ]
  },
  {
   "cell_type": "markdown",
   "metadata": {
    "colab_type": "text",
    "id": "MgvmCbX0yMs2"
   },
   "source": [
    "Попробуем использовать наивный байес с собственным токенизатором"
   ]
  },
  {
   "cell_type": "code",
   "execution_count": 22,
   "metadata": {
    "colab": {
     "base_uri": "https://localhost:8080/",
     "height": 228
    },
    "colab_type": "code",
    "id": "btIYfmTddxB1",
    "outputId": "15b55d87-e7c3-4e9d-8f07-6a4807ed523b"
   },
   "outputs": [
    {
     "name": "stdout",
     "output_type": "stream",
     "text": [
      "Collecting pymorphy2\n",
      "\u001b[?25l  Downloading https://files.pythonhosted.org/packages/a3/33/fff9675c68b5f6c63ec8c6e6ff57827dda28a1fa5b2c2d727dffff92dd47/pymorphy2-0.8-py2.py3-none-any.whl (46kB)\n",
      "\u001b[K    100% |████████████████████████████████| 51kB 2.0MB/s \n",
      "\u001b[?25hCollecting pymorphy2-dicts<3.0,>=2.4 (from pymorphy2)\n",
      "\u001b[?25l  Downloading https://files.pythonhosted.org/packages/02/51/2465fd4f72328ab50877b54777764d928da8cb15b74e2680fc1bd8cb3173/pymorphy2_dicts-2.4.393442.3710985-py2.py3-none-any.whl (7.1MB)\n",
      "\u001b[K    100% |████████████████████████████████| 7.1MB 2.9MB/s \n",
      "\u001b[?25hRequirement already satisfied: docopt>=0.6 in /usr/local/lib/python3.6/dist-packages (from pymorphy2) (0.6.2)\n",
      "Collecting dawg-python>=0.7 (from pymorphy2)\n",
      "  Downloading https://files.pythonhosted.org/packages/6a/84/ff1ce2071d4c650ec85745766c0047ccc3b5036f1d03559fd46bb38b5eeb/DAWG_Python-0.7.2-py2.py3-none-any.whl\n",
      "Installing collected packages: pymorphy2-dicts, dawg-python, pymorphy2\n",
      "Successfully installed dawg-python-0.7.2 pymorphy2-0.8 pymorphy2-dicts-2.4.393442.3710985\n"
     ]
    }
   ],
   "source": [
    "!pip install pymorphy2\n",
    "# pip install pymorphy2-dicts\n",
    "# pip install DAWG-Python"
   ]
  },
  {
   "cell_type": "code",
   "execution_count": 24,
   "metadata": {
    "colab": {
     "base_uri": "https://localhost:8080/",
     "height": 69
    },
    "colab_type": "code",
    "id": "3zslCzFVeBuy",
    "outputId": "735895bc-3e91-4343-ede5-9cec722dea62"
   },
   "outputs": [
    {
     "name": "stdout",
     "output_type": "stream",
     "text": [
      "[nltk_data] Downloading package punkt to /root/nltk_data...\n",
      "[nltk_data]   Unzipping tokenizers/punkt.zip.\n"
     ]
    },
    {
     "data": {
      "text/plain": [
       "True"
      ]
     },
     "execution_count": 24,
     "metadata": {
      "tags": []
     },
     "output_type": "execute_result"
    }
   ],
   "source": [
    "import nltk\n",
    "nltk.download('punkt')"
   ]
  },
  {
   "cell_type": "code",
   "execution_count": 25,
   "metadata": {
    "colab": {
     "base_uri": "https://localhost:8080/",
     "height": 191
    },
    "colab_type": "code",
    "id": "HvMYiGVKayUW",
    "outputId": "e5251e4c-e099-46d3-f394-c3e7f6450db9"
   },
   "outputs": [
    {
     "name": "stdout",
     "output_type": "stream",
     "text": [
      "              precision    recall  f1-score   support\n",
      "\n",
      "          -1       0.67      0.49      0.57      1109\n",
      "           0       0.39      0.22      0.28      1408\n",
      "           1       0.87      0.96      0.91      9109\n",
      "\n",
      "   micro avg       0.82      0.82      0.82     11626\n",
      "   macro avg       0.64      0.55      0.58     11626\n",
      "weighted avg       0.79      0.82      0.80     11626\n",
      "\n"
     ]
    }
   ],
   "source": [
    "from pymorphy2 import MorphAnalyzer\n",
    "morphy2 = MorphAnalyzer()\n",
    "def my_preproc_morphy2(text):\n",
    "    text = word_tokenize(text)\n",
    "    return [morphy2.parse(word)[0].normal_form for word in text]\n",
    "vec_M = CountVectorizer(tokenizer=my_preproc_morphy2)\n",
    "bow_M = vec_M.fit_transform(X_train)\n",
    "nb_M = MultinomialNB()\n",
    "nb_M.fit(bow_M, y_train)\n",
    "test_bow_M = vec_M.transform(X_test) \n",
    "print(classification_report(y_test, nb_M.predict(test_bow_M)))"
   ]
  },
  {
   "cell_type": "markdown",
   "metadata": {
    "colab_type": "text",
    "id": "UEEGpGqtyc_d"
   },
   "source": [
    "Токенизатор на основе пайМорфи работал почти час, но выдал хороший результат. Бейзлайн побит в первый раз! Посмотрим на confusion matrix"
   ]
  },
  {
   "cell_type": "code",
   "execution_count": 36,
   "metadata": {
    "colab": {
     "base_uri": "https://localhost:8080/",
     "height": 281
    },
    "colab_type": "code",
    "id": "AgTx0kP-6oF8",
    "outputId": "7408d7e8-4a4a-419c-fc27-b978d46288be"
   },
   "outputs": [
    {
     "data": {
      "image/png": "[encoded data removed]",
      "text/plain": [
       "<Figure size 432x288 with 1 Axes>"
      ]
     },
     "metadata": {
      "tags": []
     },
     "output_type": "display_data"
    }
   ],
   "source": [
    "categories = ['negative', 'neutral', 'positive']\n",
    "sns.heatmap(data=confusion_matrix(y_test, nb_M.predict(test_bow_M)),\n",
    "            annot=True, fmt=\"d\", cbar=False, xticklabels=categories, yticklabels=categories)\n",
    "plt.title(\"Confusion matrix\")\n",
    "plt.show()"
   ]
  },
  {
   "cell_type": "markdown",
   "metadata": {
    "colab_type": "text",
    "id": "sTiOhk2p7IMx"
   },
   "source": [
    "достаточно ощутимо улучшились результаты для негативных и нейтральных отзывов, а для положительных немного ухудшились."
   ]
  },
  {
   "cell_type": "markdown",
   "metadata": {
    "colab_type": "text",
    "id": "7R9Qyokqyw42"
   },
   "source": [
    "Попробуем сделать то же самое, но без пайморфи, а просто с токенайзером из нлтк:"
   ]
  },
  {
   "cell_type": "code",
   "execution_count": 26,
   "metadata": {
    "colab": {
     "base_uri": "https://localhost:8080/",
     "height": 191
    },
    "colab_type": "code",
    "id": "U6_b4dRfaxy0",
    "outputId": "a29248ec-eb13-46b7-f080-b0c2f2b725d5"
   },
   "outputs": [
    {
     "name": "stdout",
     "output_type": "stream",
     "text": [
      "              precision    recall  f1-score   support\n",
      "\n",
      "          -1       0.82      0.15      0.25      1109\n",
      "           0       0.44      0.03      0.06      1408\n",
      "           1       0.80      1.00      0.89      9109\n",
      "\n",
      "   micro avg       0.80      0.80      0.80     11626\n",
      "   macro avg       0.68      0.39      0.40     11626\n",
      "weighted avg       0.76      0.80      0.73     11626\n",
      "\n"
     ]
    }
   ],
   "source": [
    "vec_tok_nltk = CountVectorizer(tokenizer=word_tokenize)\n",
    "bow_tok_nltk = vec_tok_nltk.fit_transform(X_train)\n",
    "nb_tok_nltk = MultinomialNB()\n",
    "nb_tok_nltk.fit(bow_tok_nltk, y_train)\n",
    "test_bow_tok_nltk = vec_tok_nltk.transform(X_test) \n",
    "print(classification_report(y_test, nb_tok_nltk.predict(test_bow_tok_nltk)))\n"
   ]
  },
  {
   "cell_type": "markdown",
   "metadata": {
    "colab_type": "text",
    "id": "Axpvl4BE1RcV"
   },
   "source": [
    "Результат чууууть ниже, чем бейзлайн. Интересно, почему)"
   ]
  },
  {
   "cell_type": "markdown",
   "metadata": {
    "colab_type": "text",
    "id": "B6_jyHdA7oiN"
   },
   "source": [
    "Попробуем с биграммами:"
   ]
  },
  {
   "cell_type": "code",
   "execution_count": 37,
   "metadata": {
    "colab": {
     "base_uri": "https://localhost:8080/",
     "height": 191
    },
    "colab_type": "code",
    "id": "7xxG4rlV7hj8",
    "outputId": "387e9860-c8a9-456c-a6d5-6698a47e2131"
   },
   "outputs": [
    {
     "name": "stdout",
     "output_type": "stream",
     "text": [
      "              precision    recall  f1-score   support\n",
      "\n",
      "          -1       1.00      0.00      0.00      1109\n",
      "           0       0.50      0.00      0.00      1408\n",
      "           1       0.78      1.00      0.88      9109\n",
      "\n",
      "   micro avg       0.78      0.78      0.78     11626\n",
      "   macro avg       0.76      0.33      0.29     11626\n",
      "weighted avg       0.77      0.78      0.69     11626\n",
      "\n"
     ]
    }
   ],
   "source": [
    "vec_bi = CountVectorizer(ngram_range=(2, 2), tokenizer=word_tokenize)\n",
    "bow_bi = vec_bi.fit_transform(X_train)\n",
    "nb_bi = MultinomialNB()\n",
    "nb_bi.fit(bow_bi, y_train)\n",
    "test_bow_bi = vec_bi.transform(X_test) \n",
    "print(classification_report(y_test, nb_bi.predict(test_bow_bi)))\n"
   ]
  },
  {
   "cell_type": "markdown",
   "metadata": {
    "colab_type": "text",
    "id": "sH-nUkmS9Q3L"
   },
   "source": [
    "получилась какая-то фигня. воспроизведем её графически:"
   ]
  },
  {
   "cell_type": "code",
   "execution_count": 38,
   "metadata": {
    "colab": {
     "base_uri": "https://localhost:8080/",
     "height": 281
    },
    "colab_type": "code",
    "id": "7krvRwx07g8V",
    "outputId": "19881382-3b10-49de-cf84-6961bdbe038c"
   },
   "outputs": [
    {
     "data": {
      "image/png": "[encoded data removed]",
      "text/plain": [
       "<Figure size 432x288 with 1 Axes>"
      ]
     },
     "metadata": {
      "tags": []
     },
     "output_type": "display_data"
    }
   ],
   "source": [
    "categories = ['negative', 'neutral', 'positive']\n",
    "sns.heatmap(data=confusion_matrix(y_test, nb_bi.predict(test_bow_bi)),\n",
    "            annot=True, fmt=\"d\", cbar=False, xticklabels=categories, yticklabels=categories)\n",
    "plt.title(\"Confusion matrix\")\n",
    "plt.show()"
   ]
  },
  {
   "cell_type": "markdown",
   "metadata": {
    "colab_type": "text",
    "id": "zF5MAN0W9p5P"
   },
   "source": [
    "то есть наша модель тупо записала все отзывы в положительные. Наверное, пора заканчивать с препроцессингом) Посмотрим еще повнимательнее на то, что у нас в текстах."
   ]
  },
  {
   "cell_type": "code",
   "execution_count": 39,
   "metadata": {
    "colab": {
     "base_uri": "https://localhost:8080/",
     "height": 1768
    },
    "colab_type": "code",
    "id": "nPYMneoe96vb",
    "outputId": "d3affeb8-4c72-44cc-824f-08b6d9be4c8d"
   },
   "outputs": [
    {
     "name": "stdout",
     "output_type": "stream",
     "text": [
      "16985398\n"
     ]
    },
    {
     "data": {
      "text/plain": [
       "[('и', 645077),\n",
       " ('в', 449243),\n",
       " ('не', 351648),\n",
       " ('что', 215199),\n",
       " ('на', 213878),\n",
       " ('с', 163190),\n",
       " ('-', 125377),\n",
       " ('как', 118821),\n",
       " ('это', 116600),\n",
       " ('из', 103986),\n",
       " ('но', 101096),\n",
       " ('фильм', 87368),\n",
       " ('а', 84574),\n",
       " ('его', 84250),\n",
       " ('он', 77252),\n",
       " ('я', 72707),\n",
       " ('к', 72293),\n",
       " ('все', 69587),\n",
       " ('о', 67780),\n",
       " ('же', 66839),\n",
       " ('по', 66828),\n",
       " ('то', 64983),\n",
       " ('так', 62014),\n",
       " ('И', 61343),\n",
       " ('за', 59302),\n",
       " ('от', 54358),\n",
       " ('для', 54044),\n",
       " ('бы', 52046),\n",
       " ('В', 50648),\n",
       " ('фильма', 50626),\n",
       " ('Но', 49870),\n",
       " ('очень', 48037),\n",
       " ('только', 42583),\n",
       " ('у', 42504),\n",
       " ('просто', 37427),\n",
       " ('даже', 37379),\n",
       " ('который', 35538),\n",
       " ('А', 34584),\n",
       " ('было', 33877),\n",
       " ('уже', 32042),\n",
       " ('их', 31723),\n",
       " ('или', 31423),\n",
       " ('фильме', 31336),\n",
       " ('этот', 30410),\n",
       " ('до', 29805),\n",
       " ('они', 29783),\n",
       " ('есть', 29523),\n",
       " ('этом', 28976),\n",
       " ('можно', 28731),\n",
       " ('когда', 28017),\n",
       " ('она', 27152),\n",
       " ('всё', 26556),\n",
       " ('меня', 26481),\n",
       " ('если', 26387),\n",
       " ('мне', 26293),\n",
       " ('которые', 26170),\n",
       " ('этого', 26012),\n",
       " ('кино', 25961),\n",
       " ('жизни', 25338),\n",
       " ('может', 24608),\n",
       " ('себя', 24432),\n",
       " ('Я', 23897),\n",
       " ('ни', 23808),\n",
       " ('Это', 23689),\n",
       " ('время', 23532),\n",
       " ('того', 23450),\n",
       " ('еще', 23099),\n",
       " ('нет', 22689),\n",
       " ('был', 22534),\n",
       " ('чтобы', 22379),\n",
       " ('раз', 22299),\n",
       " ('мы', 22263),\n",
       " ('чем', 21676),\n",
       " ('во', 20679),\n",
       " ('своей', 20272),\n",
       " ('со', 20216),\n",
       " ('том', 19843),\n",
       " ('быть', 19456),\n",
       " ('без', 18714),\n",
       " ('Фильм', 18669),\n",
       " ('вот', 18527),\n",
       " ('после', 18405),\n",
       " ('жизнь', 18209),\n",
       " ('всего', 18176),\n",
       " ('Он', 18161),\n",
       " ('ли', 17937),\n",
       " ('Не', 17807),\n",
       " ('где', 17761),\n",
       " ('более', 17685),\n",
       " ('именно', 17633),\n",
       " ('больше', 17550),\n",
       " ('ее', 17351),\n",
       " ('здесь', 17227),\n",
       " ('один', 17127),\n",
       " ('лишь', 16992),\n",
       " ('кто', 16785),\n",
       " ('ему', 16705),\n",
       " ('будет', 16688),\n",
       " ('которая', 16586),\n",
       " ('тем', 16205)]"
      ]
     },
     "execution_count": 39,
     "metadata": {
      "tags": []
     },
     "output_type": "execute_result"
    }
   ],
   "source": [
    "corpus = [token for post in df.text for token in word_tokenize(post)]\n",
    "print(len(corpus))\n",
    "freq_dict = Counter(corpus)\n",
    "freq_dict.most_common(100)"
   ]
  },
  {
   "cell_type": "markdown",
   "metadata": {
    "colab_type": "text",
    "id": "1PrNVaqq-_6P"
   },
   "source": [
    "Первая сотня токенов нам не о чем не говорит, кроме того, что в текстах почему-то нет знаков препинания. Ну и что тексты о фильмах, потому что слово \"фильм\" такое же частотное, как самые частотные предлоги. Без знаков препинания анализировать посимвольно, наверное, бессмысленно, но я всё-таки попробую"
   ]
  },
  {
   "cell_type": "code",
   "execution_count": 40,
   "metadata": {
    "colab": {
     "base_uri": "https://localhost:8080/",
     "height": 191
    },
    "colab_type": "code",
    "id": "mWB1rLBt_jx-",
    "outputId": "cd542260-2bd1-4760-d94c-ebd426c5446b"
   },
   "outputs": [
    {
     "name": "stdout",
     "output_type": "stream",
     "text": [
      "              precision    recall  f1-score   support\n",
      "\n",
      "          -1       0.26      0.18      0.21      1109\n",
      "           0       0.24      0.03      0.06      1408\n",
      "           1       0.80      0.94      0.87      9109\n",
      "\n",
      "   micro avg       0.76      0.76      0.76     11626\n",
      "   macro avg       0.44      0.38      0.38     11626\n",
      "weighted avg       0.68      0.76      0.71     11626\n",
      "\n"
     ]
    }
   ],
   "source": [
    "vec_char = CountVectorizer(analyzer='char')\n",
    "bow_char = vec_char.fit_transform(X_train)\n",
    "nb_char = MultinomialNB()\n",
    "nb_char.fit(bow_char, y_train)\n",
    "test_bow_char = vec_char.transform(X_test) \n",
    "print(classification_report(y_test, nb_char.predict(test_bow_char)))\n",
    "\n"
   ]
  },
  {
   "cell_type": "markdown",
   "metadata": {
    "colab_type": "text",
    "id": "ILAmW28YADrJ"
   },
   "source": [
    "Теперь попробую логистическую регрессию"
   ]
  },
  {
   "cell_type": "markdown",
   "metadata": {
    "colab_type": "text",
    "id": "0vEgIl0BAJ4X"
   },
   "source": [
    "## Логистическая регрессия"
   ]
  },
  {
   "cell_type": "code",
   "execution_count": 41,
   "metadata": {
    "colab": {
     "base_uri": "https://localhost:8080/",
     "height": 191
    },
    "colab_type": "code",
    "id": "8HAAUMgNAOZO",
    "outputId": "6572ef10-b521-4ab4-855a-7d7b8066d7e2"
   },
   "outputs": [
    {
     "name": "stdout",
     "output_type": "stream",
     "text": [
      "              precision    recall  f1-score   support\n",
      "\n",
      "          -1       0.67      0.53      0.59      1109\n",
      "           0       0.40      0.25      0.31      1408\n",
      "           1       0.88      0.95      0.92      9109\n",
      "\n",
      "   micro avg       0.83      0.83      0.83     11626\n",
      "   macro avg       0.65      0.58      0.61     11626\n",
      "weighted avg       0.80      0.83      0.81     11626\n",
      "\n"
     ]
    }
   ],
   "source": [
    "vec_log = CountVectorizer()\n",
    "bow_log = vec_log.fit_transform(X_train)\n",
    "lr_log = LogisticRegression()\n",
    "lr_log.fit(bow_log, y_train)\n",
    "test_bow_log = vec_log.transform(X_test) \n",
    "print(classification_report(y_test, lr_log.predict(test_bow_log)))\n"
   ]
  },
  {
   "cell_type": "markdown",
   "metadata": {
    "colab_type": "text",
    "id": "dXok38cTBpIf"
   },
   "source": [
    "ура! бейзлайн побит во второй раз!"
   ]
  },
  {
   "cell_type": "code",
   "execution_count": 42,
   "metadata": {
    "colab": {
     "base_uri": "https://localhost:8080/",
     "height": 281
    },
    "colab_type": "code",
    "id": "fjS-jTvqBtEf",
    "outputId": "f052bef3-8117-4268-8f98-e340da07ed8b"
   },
   "outputs": [
    {
     "data": {
      "image/png": "[encoded data removed]",
      "text/plain": [
       "<Figure size 432x288 with 1 Axes>"
      ]
     },
     "metadata": {
      "tags": []
     },
     "output_type": "display_data"
    }
   ],
   "source": [
    "categories = ['negative', 'neutral', 'positive']\n",
    "sns.heatmap(data=confusion_matrix(y_test, lr_log.predict(test_bow_log)),\n",
    "            annot=True, fmt=\"d\", cbar=False, xticklabels=categories, yticklabels=categories)\n",
    "plt.title(\"Confusion matrix\")\n",
    "plt.show()"
   ]
  },
  {
   "cell_type": "markdown",
   "metadata": {
    "colab_type": "text",
    "id": "0BLx5anvCBG5"
   },
   "source": [
    "опять, правда, слишком много нейтральных отзывов неправильно отнесено к положительным"
   ]
  },
  {
   "cell_type": "markdown",
   "metadata": {
    "colab_type": "text",
    "id": "m6hqhir9CTZQ"
   },
   "source": [
    "Теперь попробуем тф-дф векторайзер в логистической регрессии, просто посмотреть, что будет"
   ]
  },
  {
   "cell_type": "code",
   "execution_count": 43,
   "metadata": {
    "colab": {
     "base_uri": "https://localhost:8080/",
     "height": 191
    },
    "colab_type": "code",
    "id": "w3_ov4POCUru",
    "outputId": "604e8f79-4bc7-4f2e-c918-d6d3bc94dfdc"
   },
   "outputs": [
    {
     "name": "stdout",
     "output_type": "stream",
     "text": [
      "              precision    recall  f1-score   support\n",
      "\n",
      "          -1       0.78      0.39      0.52      1109\n",
      "           0       0.52      0.08      0.13      1408\n",
      "           1       0.83      0.99      0.91      9109\n",
      "\n",
      "   micro avg       0.82      0.82      0.82     11626\n",
      "   macro avg       0.71      0.49      0.52     11626\n",
      "weighted avg       0.79      0.82      0.77     11626\n",
      "\n"
     ]
    }
   ],
   "source": [
    "vec_Tf_log = TfidfVectorizer()\n",
    "bow_Tf_log = vec_Tf_log.fit_transform(X_train) \n",
    "Tf_log = LogisticRegression()\n",
    "Tf_log.fit(bow_Tf_log, y_train)\n",
    "test_bow_Tf_log = vec_Tf_log.transform(X_test)\n",
    "pred_Tf_log = Tf_log.predict(test_bow_Tf_log)\n",
    "print(classification_report(y_test, pred_Tf_log))"
   ]
  },
  {
   "cell_type": "code",
   "execution_count": 44,
   "metadata": {
    "colab": {
     "base_uri": "https://localhost:8080/",
     "height": 281
    },
    "colab_type": "code",
    "id": "OS-H6weTDTPB",
    "outputId": "b1d8b3d3-5249-463a-8da4-59ebb4a8e889"
   },
   "outputs": [
    {
     "data": {
      "image/png": "[encoded data removed]",
      "text/plain": [
       "<Figure size 432x288 with 1 Axes>"
      ]
     },
     "metadata": {
      "tags": []
     },
     "output_type": "display_data"
    }
   ],
   "source": [
    "categories = ['negative', 'neutral', 'positive']\n",
    "sns.heatmap(data=confusion_matrix(y_test, pred_Tf_log),\n",
    "            annot=True, fmt=\"d\", cbar=False, xticklabels=categories, yticklabels=categories)\n",
    "plt.title(\"Confusion matrix\")\n",
    "plt.show()"
   ]
  },
  {
   "cell_type": "markdown",
   "metadata": {
    "colab_type": "text",
    "id": "NpesvsgQDrnG"
   },
   "source": [
    "немного лучше бейзлайн. Теперь попробуем SGDClassifier"
   ]
  },
  {
   "cell_type": "markdown",
   "metadata": {
    "colab_type": "text",
    "id": "QMv8rorIEFzK"
   },
   "source": [
    "## SGDClassifier"
   ]
  },
  {
   "cell_type": "code",
   "execution_count": 45,
   "metadata": {
    "colab": {
     "base_uri": "https://localhost:8080/",
     "height": 191
    },
    "colab_type": "code",
    "id": "EzbyHPe-EH-u",
    "outputId": "84e7d46b-6dcd-46dd-a2aa-5ba1046583ad"
   },
   "outputs": [
    {
     "name": "stdout",
     "output_type": "stream",
     "text": [
      "              precision    recall  f1-score   support\n",
      "\n",
      "          -1       0.63      0.55      0.59      1109\n",
      "           0       0.39      0.21      0.27      1408\n",
      "           1       0.88      0.95      0.92      9109\n",
      "\n",
      "   micro avg       0.83      0.83      0.83     11626\n",
      "   macro avg       0.63      0.57      0.59     11626\n",
      "weighted avg       0.80      0.83      0.81     11626\n",
      "\n"
     ]
    }
   ],
   "source": [
    "\n",
    "vec_sgd = CountVectorizer()\n",
    "bow_sgd = vec_sgd.fit_transform(X_train)\n",
    "sgd = SGDClassifier()\n",
    "sgd.fit(bow_sgd, y_train)\n",
    "test_bow_sgd = vec_sgd.transform(X_test) \n",
    "print(classification_report(y_test, sgd.predict(test_bow_sgd)))\n"
   ]
  },
  {
   "cell_type": "markdown",
   "metadata": {
    "colab_type": "text",
    "id": "sA6PsNmRE7O4"
   },
   "source": [
    "в общем-то на том же уровне, что и все остальные результаты. интересно, можно ли придумать способ лучше определять нейтральные отзывы? \n",
    "Теперь gridSearch"
   ]
  },
  {
   "cell_type": "markdown",
   "metadata": {
    "colab_type": "text",
    "id": "9qNwh2gzFT9p"
   },
   "source": [
    "## GridSearch"
   ]
  },
  {
   "cell_type": "markdown",
   "metadata": {
    "colab_type": "text",
    "id": "eIKB0wTeFqgH"
   },
   "source": [
    "взяла какие-то рандомные параметры, он считал их весь день и без особой пользы:"
   ]
  },
  {
   "cell_type": "code",
   "execution_count": 48,
   "metadata": {
    "colab": {
     "base_uri": "https://localhost:8080/",
     "height": 228
    },
    "colab_type": "code",
    "id": "MrJSiWyUFWt0",
    "outputId": "2866f355-ee12-43d0-c323-4cfa05180192"
   },
   "outputs": [
    {
     "data": {
      "text/plain": [
       "GridSearchCV(cv='warn', error_score='raise-deprecating',\n",
       "       estimator=SGDClassifier(alpha=0.0001, average=False, class_weight=None,\n",
       "       early_stopping=False, epsilon=0.1, eta0=0.0, fit_intercept=True,\n",
       "       l1_ratio=0.15, learning_rate='optimal', loss='hinge', max_iter=None,\n",
       "       n_iter=None, n_iter_no_change=5, n_jobs=None, penalty='l2',\n",
       "       power_t=0.5, random_state=None, shuffle=True, tol=None,\n",
       "       validation_fraction=0.1, verbose=0, warm_start=False),\n",
       "       fit_params=None, iid='warn', n_jobs=None,\n",
       "       param_grid={'penalty': ['l1', 'l2'], 'loss': ['hinge', 'log'], 'fit_intercept': [False, True], 'shuffle': [False, True], 'max_iter': [1000], 'tol': [None, 0.001]},\n",
       "       pre_dispatch='2*n_jobs', refit=True, return_train_score='warn',\n",
       "       scoring=None, verbose=0)"
      ]
     },
     "execution_count": 48,
     "metadata": {
      "tags": []
     },
     "output_type": "execute_result"
    }
   ],
   "source": [
    "sgd = SGDClassifier()\n",
    "\n",
    "grid_values = {'penalty': ['l1', 'l2'],\n",
    "               'loss': ['hinge', 'log'],\n",
    "               'fit_intercept':[False, True], \n",
    "               'shuffle': [False, True],\n",
    "               'max_iter':[1000],\n",
    "               'tol':[None, 1e-3]}\n",
    "grid_sgd_acc = GridSearchCV(sgd, param_grid = grid_values)\n",
    "grid_sgd_acc.fit(bow_sgd, y_train)"
   ]
  },
  {
   "cell_type": "code",
   "execution_count": 52,
   "metadata": {
    "colab": {
     "base_uri": "https://localhost:8080/",
     "height": 191
    },
    "colab_type": "code",
    "id": "80KPdrkVd6WC",
    "outputId": "32fe2e22-5c7b-464e-dbe2-fddcaa91bd33"
   },
   "outputs": [
    {
     "name": "stdout",
     "output_type": "stream",
     "text": [
      "              precision    recall  f1-score   support\n",
      "\n",
      "          -1       0.67      0.52      0.59      1109\n",
      "           0       0.40      0.23      0.29      1408\n",
      "           1       0.88      0.96      0.92      9109\n",
      "\n",
      "   micro avg       0.83      0.83      0.83     11626\n",
      "   macro avg       0.65      0.57      0.60     11626\n",
      "weighted avg       0.80      0.83      0.81     11626\n",
      "\n"
     ]
    }
   ],
   "source": [
    "print(classification_report(y_test, grid_sgd_acc.predict(test_bow_sgd)))"
   ]
  },
  {
   "cell_type": "markdown",
   "metadata": {
    "colab_type": "text",
    "id": "pk77fhjmeZpk"
   },
   "source": [
    "Видимо, параметры надо подбирать как-то более осмысленно. Тогда я залезла на Медиум и посмотрела, какие там подбирают параметры. Код ниже я стащила вот отсюда: https://medium.com/search?q=SGDClassifier "
   ]
  },
  {
   "cell_type": "code",
   "execution_count": 1,
   "metadata": {
    "colab": {
     "base_uri": "https://localhost:8080/",
     "height": 235
    },
    "colab_type": "code",
    "id": "6xTMC0SXP3HM",
    "outputId": "14a6c157-3306-4bef-94ef-e159f47a0cde"
   },
   "outputs": [
    {
     "ename": "NameError",
     "evalue": "ignored",
     "output_type": "error",
     "traceback": [
      "\u001b[0;31m---------------------------------------------------------------------------\u001b[0m",
      "\u001b[0;31mNameError\u001b[0m                                 Traceback (most recent call last)",
      "\u001b[0;32m<ipython-input-1-e651bcd0c2eb>\u001b[0m in \u001b[0;36m<module>\u001b[0;34m()\u001b[0m\n\u001b[0;32m----> 1\u001b[0;31m \u001b[0msgd\u001b[0m \u001b[0;34m=\u001b[0m \u001b[0mSGDClassifier\u001b[0m\u001b[0;34m(\u001b[0m\u001b[0;34m)\u001b[0m\u001b[0;34m\u001b[0m\u001b[0;34m\u001b[0m\u001b[0m\n\u001b[0m\u001b[1;32m      2\u001b[0m grid_values1 = {\n\u001b[1;32m      3\u001b[0m     \u001b[0;34m'alpha'\u001b[0m\u001b[0;34m:\u001b[0m \u001b[0;34m[\u001b[0m\u001b[0;36m1e-4\u001b[0m\u001b[0;34m,\u001b[0m \u001b[0;36m1e-3\u001b[0m\u001b[0;34m,\u001b[0m \u001b[0;36m1e-2\u001b[0m\u001b[0;34m,\u001b[0m \u001b[0;36m1e-1\u001b[0m\u001b[0;34m,\u001b[0m \u001b[0;36m1e0\u001b[0m\u001b[0;34m,\u001b[0m \u001b[0;36m1e1\u001b[0m\u001b[0;34m,\u001b[0m \u001b[0;36m1e2\u001b[0m\u001b[0;34m,\u001b[0m \u001b[0;36m1e3\u001b[0m\u001b[0;34m]\u001b[0m\u001b[0;34m,\u001b[0m \u001b[0;31m# learning rate\u001b[0m\u001b[0;34m\u001b[0m\u001b[0;34m\u001b[0m\u001b[0m\n\u001b[1;32m      4\u001b[0m     \u001b[0;34m'n_iter'\u001b[0m\u001b[0;34m:\u001b[0m \u001b[0;34m[\u001b[0m\u001b[0;36m1000\u001b[0m\u001b[0;34m]\u001b[0m\u001b[0;34m,\u001b[0m \u001b[0;31m# number of epochs\u001b[0m\u001b[0;34m\u001b[0m\u001b[0;34m\u001b[0m\u001b[0m\n\u001b[1;32m      5\u001b[0m     \u001b[0;34m'loss'\u001b[0m\u001b[0;34m:\u001b[0m \u001b[0;34m[\u001b[0m\u001b[0;34m'log'\u001b[0m\u001b[0;34m]\u001b[0m\u001b[0;34m,\u001b[0m \u001b[0;31m# logistic regression,\u001b[0m\u001b[0;34m\u001b[0m\u001b[0;34m\u001b[0m\u001b[0m\n",
      "\u001b[0;31mNameError\u001b[0m: name 'SGDClassifier' is not defined"
     ]
    }
   ],
   "source": [
    "sgd = SGDClassifier()\n",
    "grid_values1 = {\n",
    "    'alpha': [1e-4, 1e-3, 1e-2, 1e-1, 1e0, 1e1, 1e2, 1e3], # learning rate\n",
    "    'n_iter': [1000], # number of epochs\n",
    "    'loss': ['log'], # logistic regression,\n",
    "    'penalty': ['l2'],\n",
    "    'n_jobs': [-1]\n",
    "}\n",
    "grid_sgd_acc1 = GridSearchCV(sgd, param_grid = grid_values1)\n",
    "grid_sgd_acc1.fit(bow_sgd, y_train)"
   ]
  },
  {
   "cell_type": "markdown",
   "metadata": {
    "colab_type": "text",
    "id": "14SKvF1Y8vOo"
   },
   "source": [
    "после чего мой гугл коллаб протупил еще пару часов и дисконнектнулся, увы. Но эти параметры я уже пробовала до того, и особо лучших результатов они не дали. Так что я решила закончить с   GridSearch, он очень времязатратный и никаких интересных результатов ни разу не показал."
   ]
  },
  {
   "cell_type": "markdown",
   "metadata": {
    "colab_type": "text",
    "id": "pynrTEjHBHY3"
   },
   "source": [
    "## Визуализация весов (логистическая регрессия)"
   ]
  },
  {
   "cell_type": "code",
   "execution_count": 17,
   "metadata": {
    "colab": {
     "base_uri": "https://localhost:8080/",
     "height": 191
    },
    "colab_type": "code",
    "id": "WDeSKkAhBPlR",
    "outputId": "142089e7-c348-4580-f2fd-404855e72c9f"
   },
   "outputs": [
    {
     "name": "stdout",
     "output_type": "stream",
     "text": [
      "              precision    recall  f1-score   support\n",
      "\n",
      "          -1       0.65      0.51      0.58      1094\n",
      "           0       0.37      0.24      0.29      1409\n",
      "           1       0.88      0.95      0.91      9123\n",
      "\n",
      "   micro avg       0.82      0.82      0.82     11626\n",
      "   macro avg       0.63      0.57      0.59     11626\n",
      "weighted avg       0.80      0.82      0.81     11626\n",
      "\n"
     ]
    }
   ],
   "source": [
    "vec = CountVectorizer()\n",
    "bag_of_words = vec.fit_transform(df.text)\n",
    "X_train, X_test, y_train, y_test = train_test_split(bag_of_words, df.label)\n",
    "lr = LogisticRegression(random_state=88)\n",
    "clf = lr.fit(X_train, y_train)\n",
    "print(classification_report(y_test, clf.predict(X_test)))"
   ]
  },
  {
   "cell_type": "code",
   "execution_count": 18,
   "metadata": {
    "colab": {
     "base_uri": "https://localhost:8080/",
     "height": 139
    },
    "colab_type": "code",
    "id": "s2NIS-UvBSfL",
    "outputId": "33fc254c-e936-4bd8-ec75-db1c820eaa28"
   },
   "outputs": [
    {
     "name": "stdout",
     "output_type": "stream",
     "text": [
      "[-1  0  1]\n"
     ]
    },
    {
     "data": {
      "text/plain": [
       "array([[ 0.081321  , -0.18295653,  0.1185735 , ..., -0.0023465 ,\n",
       "        -0.02275359, -0.00550958],\n",
       "       [-0.04262865,  0.14427497, -0.03472102, ..., -0.00255423,\n",
       "         0.00209248, -0.00020915],\n",
       "       [-0.01666273,  0.05605757, -0.06584016, ...,  0.00535865,\n",
       "         0.01645486,  0.00775231]])"
      ]
     },
     "execution_count": 18,
     "metadata": {
      "tags": []
     },
     "output_type": "execute_result"
    }
   ],
   "source": [
    "print(clf.classes_)\n",
    "clf.coef_"
   ]
  },
  {
   "cell_type": "markdown",
   "metadata": {
    "colab_type": "text",
    "id": "yuRWfDH1BdHp"
   },
   "source": [
    "Сначала найдем 10 самых больших коэффициентов для каждого класса, для этих коэффициентов найдем индексы их токенов и запишем это всё в словарь."
   ]
  },
  {
   "cell_type": "code",
   "execution_count": 19,
   "metadata": {
    "colab": {
     "base_uri": "https://localhost:8080/",
     "height": 537
    },
    "colab_type": "code",
    "id": "XXpC8vG8BeWU",
    "outputId": "143bef2d-867a-401a-987f-3ddc4598abf7"
   },
   "outputs": [
    {
     "data": {
      "text/plain": [
       "{'-1': [22606,\n",
       "  46304,\n",
       "  77767,\n",
       "  167654,\n",
       "  168411,\n",
       "  196224,\n",
       "  268961,\n",
       "  296008,\n",
       "  296037,\n",
       "  333327],\n",
       " '0': [11013,\n",
       "  136545,\n",
       "  167986,\n",
       "  167988,\n",
       "  204300,\n",
       "  244579,\n",
       "  259930,\n",
       "  268815,\n",
       "  291023,\n",
       "  308890],\n",
       " '1': [49920,\n",
       "  70514,\n",
       "  134861,\n",
       "  193899,\n",
       "  199667,\n",
       "  199675,\n",
       "  200588,\n",
       "  210751,\n",
       "  238025,\n",
       "  360655]}"
      ]
     },
     "execution_count": 19,
     "metadata": {
      "tags": []
     },
     "output_type": "execute_result"
    }
   ],
   "source": [
    "classes = clf.classes_\n",
    "dict_features={}\n",
    "for i in range(len(classes)):\n",
    "    max_coef = sorted(clf.coef_[i], reverse=True)[0:10]  \n",
    "    dict_features[str(classes[i])] = []\n",
    "    for index, val in enumerate(clf.coef_[i]):\n",
    "        if val in max_coef:\n",
    "            dict_features[str(classes[i])].append(index)\n",
    "dict_features"
   ]
  },
  {
   "cell_type": "code",
   "execution_count": 20,
   "metadata": {
    "colab": {
     "base_uri": "https://localhost:8080/",
     "height": 35
    },
    "colab_type": "code",
    "id": "SVRk8ck9Bl_S",
    "outputId": "899d1541-9b79-49a5-85cd-f69cb02b6225"
   },
   "outputs": [
    {
     "data": {
      "text/plain": [
       "369844"
      ]
     },
     "execution_count": 20,
     "metadata": {
      "tags": []
     },
     "output_type": "execute_result"
    }
   ],
   "source": [
    "# обратим словарь, чтобы было удобно искать слова по индексам\n",
    "reverse_voc = {}\n",
    "for key in vec.vocabulary_:\n",
    "    index = vec.vocabulary_[key]\n",
    "    reverse_voc[index] = key\n",
    "len(reverse_voc)"
   ]
  },
  {
   "cell_type": "code",
   "execution_count": 21,
   "metadata": {
    "colab": {
     "base_uri": "https://localhost:8080/",
     "height": 537
    },
    "colab_type": "code",
    "id": "nCbnKXDfBnKz",
    "outputId": "bbb18408-a149-4cb7-b834-04db85358dac"
   },
   "outputs": [
    {
     "data": {
      "text/plain": [
       "{'-1': ['бред',\n",
       "  'выключить',\n",
       "  'единственный',\n",
       "  'неинтересный',\n",
       "  'нелепо',\n",
       "  'остальное',\n",
       "  'разочарование',\n",
       "  'скучно',\n",
       "  'скучный',\n",
       "  'ужасен'],\n",
       " '0': ['банальный',\n",
       "  'любителя',\n",
       "  'нейтральная',\n",
       "  'нейтрально',\n",
       "  'оценивать',\n",
       "  'претензия',\n",
       "  'проходной',\n",
       "  'разок',\n",
       "  'серый',\n",
       "  'средний'],\n",
       " '1': ['высший',\n",
       "  'добрых',\n",
       "  'локи',\n",
       "  'органично',\n",
       "  'отличное',\n",
       "  'отличный',\n",
       "  'оторваться',\n",
       "  'переживаешь',\n",
       "  'потрясающий',\n",
       "  'шикарен']}"
      ]
     },
     "execution_count": 21,
     "metadata": {
      "tags": []
     },
     "output_type": "execute_result"
    }
   ],
   "source": [
    "# Достанем самые значимые слова\n",
    "tokens_dict = {}\n",
    "for key in dict_features:\n",
    "    tokens_dict[str(key)] = []\n",
    "    for el in dict_features[key]:\n",
    "        tokens_dict[str(key)].append(reverse_voc[el])\n",
    "        \n",
    "tokens_dict    "
   ]
  },
  {
   "cell_type": "code",
   "execution_count": 22,
   "metadata": {
    "colab": {
     "base_uri": "https://localhost:8080/",
     "height": 285
    },
    "colab_type": "code",
    "id": "t1Wb3p5XBrUQ",
    "outputId": "cf64d096-f9e1-43b6-f019-6981a30ce38c"
   },
   "outputs": [
    {
     "data": {
      "image/png": "[encoded data removed]",
      "text/plain": [
       "<Figure size 432x288 with 1 Axes>"
      ]
     },
     "metadata": {
      "tags": []
     },
     "output_type": "display_data"
    }
   ],
   "source": [
    "labels = tokens_dict['-1']\n",
    "max_coef = sorted(clf.coef_[0], reverse=True)[0:10]\n",
    "plt.scatter(max_coef, range(0,10))\n",
    "for label, x, y in zip(labels, max_coef, range(0,10)):\n",
    "    plt.annotate(\n",
    "        label,\n",
    "        xy=(x, y), xytext=(-20, 20),\n",
    "        textcoords='offset points', ha='right', va='bottom',\n",
    "        bbox=dict(boxstyle='round,pad=0.5', fc='green', alpha=1),\n",
    "        arrowprops=dict(arrowstyle = '->', connectionstyle='arc3,rad=0'))\n",
    "\n",
    "plt.show()"
   ]
  },
  {
   "cell_type": "code",
   "execution_count": 23,
   "metadata": {
    "colab": {
     "base_uri": "https://localhost:8080/",
     "height": 287
    },
    "colab_type": "code",
    "id": "npHtivLoBwst",
    "outputId": "279f9865-ecec-4781-8a32-e4d8599c29d1"
   },
   "outputs": [
    {
     "data": {
      "image/png": "[encoded data removed]",
      "text/plain": [
       "<Figure size 432x288 with 1 Axes>"
      ]
     },
     "metadata": {
      "tags": []
     },
     "output_type": "display_data"
    }
   ],
   "source": [
    "labels = tokens_dict['0']\n",
    "max_coef = sorted(clf.coef_[1], reverse=True)[0:10]\n",
    "plt.scatter(max_coef, range(0,10))\n",
    "for label, x, y in zip(labels, max_coef, range(0,10)):\n",
    "    plt.annotate(\n",
    "        label,\n",
    "        xy=(x, y), xytext=(-20, 20),\n",
    "        textcoords='offset points', ha='right', va='bottom',\n",
    "        bbox=dict(boxstyle='round,pad=0.5', fc='orange', alpha=1),\n",
    "        arrowprops=dict(arrowstyle = '->', connectionstyle='arc3,rad=0'))\n",
    "\n",
    "plt.show()"
   ]
  },
  {
   "cell_type": "code",
   "execution_count": 24,
   "metadata": {
    "colab": {
     "base_uri": "https://localhost:8080/",
     "height": 285
    },
    "colab_type": "code",
    "id": "FQwoss3MB14E",
    "outputId": "50c814f9-84d4-4aa1-f7b3-dc99ae0e2f4e"
   },
   "outputs": [
    {
     "data": {
      "image/png": "[encoded data removed]",
      "text/plain": [
       "<Figure size 432x288 with 1 Axes>"
      ]
     },
     "metadata": {
      "tags": []
     },
     "output_type": "display_data"
    }
   ],
   "source": [
    "labels = tokens_dict['1']\n",
    "max_coef = sorted(clf.coef_[2], reverse=True)[0:10]\n",
    "plt.scatter(max_coef, range(0,10))\n",
    "for label, x, y in zip(labels, max_coef, range(0,10)):\n",
    "    plt.annotate(\n",
    "        label,\n",
    "        xy=(x, y), xytext=(-20, 20),\n",
    "        textcoords='offset points', ha='right', va='bottom',\n",
    "        bbox=dict(boxstyle='round,pad=0.5', fc='yellow', alpha=1),\n",
    "        arrowprops=dict(arrowstyle = '->', connectionstyle='arc3,rad=0'))\n",
    "\n",
    "plt.show()"
   ]
  },
  {
   "cell_type": "markdown",
   "metadata": {
    "colab_type": "text",
    "id": "qv36ob3gNCmL"
   },
   "source": [
    "### Бонус\n",
    "(+2 балла к основному заданию; оценка за всё задание может быть выше 10)\n",
    "\n",
    "Придумайте ещё 2-3 осмысленных споцоба визуализации данных или результатов. Добавьте их ниже или в текст основного задания. и сошлитесь на них здесь."
   ]
  },
  {
   "cell_type": "code",
   "execution_count": 0,
   "metadata": {
    "colab": {},
    "colab_type": "code",
    "id": "PhRFc1HJNCmN"
   },
   "outputs": [],
   "source": []
  }
 ],
 "metadata": {
  "colab": {
   "collapsed_sections": [
    "qv36ob3gNCmL"
   ],
   "name": "Big_HW_1(2)_Colab.ipynb",
   "provenance": [],
   "toc_visible": true,
   "version": "0.3.2"
  },
  "kernelspec": {
   "display_name": "Python 3",
   "language": "python",
   "name": "python3"
  },
  "language_info": {
   "codemirror_mode": {
    "name": "ipython",
    "version": 3
   },
   "file_extension": ".py",
   "mimetype": "text/x-python",
   "name": "python",
   "nbconvert_exporter": "python",
   "pygments_lexer": "ipython3",
   "version": "3.6.8"
  }
 },
 "nbformat": 4,
 "nbformat_minor": 1
}
